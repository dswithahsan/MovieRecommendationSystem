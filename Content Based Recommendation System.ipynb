{
 "cells": [
  {
   "cell_type": "code",
   "execution_count": 1,
   "id": "038d92a7-8762-4ddb-82f4-55aa637f2348",
   "metadata": {},
   "outputs": [],
   "source": [
    "import pandas as pd\n",
    "import numpy as np"
   ]
  },
  {
   "cell_type": "markdown",
   "id": "cdf69302-911b-4cd3-888b-4e070336fff6",
   "metadata": {},
   "source": [
    "# Load data"
   ]
  },
  {
   "cell_type": "code",
   "execution_count": 3,
   "id": "7296897d-ba88-4e56-9a9e-bc0b16496a43",
   "metadata": {},
   "outputs": [],
   "source": [
    "movies=pd.read_csv(\"tmdb_5000_movies.csv\")  "
   ]
  },
  {
   "cell_type": "code",
   "execution_count": 4,
   "id": "090a2eed-86e7-4f84-9cfc-070cfc757d51",
   "metadata": {},
   "outputs": [],
   "source": [
    "credits=pd.read_csv(\"tmdb_5000_credits.csv\")"
   ]
  },
  {
   "cell_type": "code",
   "execution_count": 5,
   "id": "3182a453-9ec2-48c7-988a-77565984e754",
   "metadata": {},
   "outputs": [
    {
     "data": {
      "text/html": [
       "<div>\n",
       "<style scoped>\n",
       "    .dataframe tbody tr th:only-of-type {\n",
       "        vertical-align: middle;\n",
       "    }\n",
       "\n",
       "    .dataframe tbody tr th {\n",
       "        vertical-align: top;\n",
       "    }\n",
       "\n",
       "    .dataframe thead th {\n",
       "        text-align: right;\n",
       "    }\n",
       "</style>\n",
       "<table border=\"1\" class=\"dataframe\">\n",
       "  <thead>\n",
       "    <tr style=\"text-align: right;\">\n",
       "      <th></th>\n",
       "      <th>budget</th>\n",
       "      <th>genres</th>\n",
       "      <th>homepage</th>\n",
       "      <th>id</th>\n",
       "      <th>keywords</th>\n",
       "      <th>original_language</th>\n",
       "      <th>original_title</th>\n",
       "      <th>overview</th>\n",
       "      <th>popularity</th>\n",
       "      <th>production_companies</th>\n",
       "      <th>production_countries</th>\n",
       "      <th>release_date</th>\n",
       "      <th>revenue</th>\n",
       "      <th>runtime</th>\n",
       "      <th>spoken_languages</th>\n",
       "      <th>status</th>\n",
       "      <th>tagline</th>\n",
       "      <th>title</th>\n",
       "      <th>vote_average</th>\n",
       "      <th>vote_count</th>\n",
       "    </tr>\n",
       "  </thead>\n",
       "  <tbody>\n",
       "    <tr>\n",
       "      <th>0</th>\n",
       "      <td>237000000</td>\n",
       "      <td>[{\"id\": 28, \"name\": \"Action\"}, {\"id\": 12, \"nam...</td>\n",
       "      <td>http://www.avatarmovie.com/</td>\n",
       "      <td>19995</td>\n",
       "      <td>[{\"id\": 1463, \"name\": \"culture clash\"}, {\"id\":...</td>\n",
       "      <td>en</td>\n",
       "      <td>Avatar</td>\n",
       "      <td>In the 22nd century, a paraplegic Marine is di...</td>\n",
       "      <td>150.437577</td>\n",
       "      <td>[{\"name\": \"Ingenious Film Partners\", \"id\": 289...</td>\n",
       "      <td>[{\"iso_3166_1\": \"US\", \"name\": \"United States o...</td>\n",
       "      <td>2009-12-10</td>\n",
       "      <td>2787965087</td>\n",
       "      <td>162.0</td>\n",
       "      <td>[{\"iso_639_1\": \"en\", \"name\": \"English\"}, {\"iso...</td>\n",
       "      <td>Released</td>\n",
       "      <td>Enter the World of Pandora.</td>\n",
       "      <td>Avatar</td>\n",
       "      <td>7.2</td>\n",
       "      <td>11800</td>\n",
       "    </tr>\n",
       "    <tr>\n",
       "      <th>1</th>\n",
       "      <td>300000000</td>\n",
       "      <td>[{\"id\": 12, \"name\": \"Adventure\"}, {\"id\": 14, \"...</td>\n",
       "      <td>http://disney.go.com/disneypictures/pirates/</td>\n",
       "      <td>285</td>\n",
       "      <td>[{\"id\": 270, \"name\": \"ocean\"}, {\"id\": 726, \"na...</td>\n",
       "      <td>en</td>\n",
       "      <td>Pirates of the Caribbean: At World's End</td>\n",
       "      <td>Captain Barbossa, long believed to be dead, ha...</td>\n",
       "      <td>139.082615</td>\n",
       "      <td>[{\"name\": \"Walt Disney Pictures\", \"id\": 2}, {\"...</td>\n",
       "      <td>[{\"iso_3166_1\": \"US\", \"name\": \"United States o...</td>\n",
       "      <td>2007-05-19</td>\n",
       "      <td>961000000</td>\n",
       "      <td>169.0</td>\n",
       "      <td>[{\"iso_639_1\": \"en\", \"name\": \"English\"}]</td>\n",
       "      <td>Released</td>\n",
       "      <td>At the end of the world, the adventure begins.</td>\n",
       "      <td>Pirates of the Caribbean: At World's End</td>\n",
       "      <td>6.9</td>\n",
       "      <td>4500</td>\n",
       "    </tr>\n",
       "    <tr>\n",
       "      <th>2</th>\n",
       "      <td>245000000</td>\n",
       "      <td>[{\"id\": 28, \"name\": \"Action\"}, {\"id\": 12, \"nam...</td>\n",
       "      <td>http://www.sonypictures.com/movies/spectre/</td>\n",
       "      <td>206647</td>\n",
       "      <td>[{\"id\": 470, \"name\": \"spy\"}, {\"id\": 818, \"name...</td>\n",
       "      <td>en</td>\n",
       "      <td>Spectre</td>\n",
       "      <td>A cryptic message from Bond’s past sends him o...</td>\n",
       "      <td>107.376788</td>\n",
       "      <td>[{\"name\": \"Columbia Pictures\", \"id\": 5}, {\"nam...</td>\n",
       "      <td>[{\"iso_3166_1\": \"GB\", \"name\": \"United Kingdom\"...</td>\n",
       "      <td>2015-10-26</td>\n",
       "      <td>880674609</td>\n",
       "      <td>148.0</td>\n",
       "      <td>[{\"iso_639_1\": \"fr\", \"name\": \"Fran\\u00e7ais\"},...</td>\n",
       "      <td>Released</td>\n",
       "      <td>A Plan No One Escapes</td>\n",
       "      <td>Spectre</td>\n",
       "      <td>6.3</td>\n",
       "      <td>4466</td>\n",
       "    </tr>\n",
       "    <tr>\n",
       "      <th>3</th>\n",
       "      <td>250000000</td>\n",
       "      <td>[{\"id\": 28, \"name\": \"Action\"}, {\"id\": 80, \"nam...</td>\n",
       "      <td>http://www.thedarkknightrises.com/</td>\n",
       "      <td>49026</td>\n",
       "      <td>[{\"id\": 849, \"name\": \"dc comics\"}, {\"id\": 853,...</td>\n",
       "      <td>en</td>\n",
       "      <td>The Dark Knight Rises</td>\n",
       "      <td>Following the death of District Attorney Harve...</td>\n",
       "      <td>112.312950</td>\n",
       "      <td>[{\"name\": \"Legendary Pictures\", \"id\": 923}, {\"...</td>\n",
       "      <td>[{\"iso_3166_1\": \"US\", \"name\": \"United States o...</td>\n",
       "      <td>2012-07-16</td>\n",
       "      <td>1084939099</td>\n",
       "      <td>165.0</td>\n",
       "      <td>[{\"iso_639_1\": \"en\", \"name\": \"English\"}]</td>\n",
       "      <td>Released</td>\n",
       "      <td>The Legend Ends</td>\n",
       "      <td>The Dark Knight Rises</td>\n",
       "      <td>7.6</td>\n",
       "      <td>9106</td>\n",
       "    </tr>\n",
       "    <tr>\n",
       "      <th>4</th>\n",
       "      <td>260000000</td>\n",
       "      <td>[{\"id\": 28, \"name\": \"Action\"}, {\"id\": 12, \"nam...</td>\n",
       "      <td>http://movies.disney.com/john-carter</td>\n",
       "      <td>49529</td>\n",
       "      <td>[{\"id\": 818, \"name\": \"based on novel\"}, {\"id\":...</td>\n",
       "      <td>en</td>\n",
       "      <td>John Carter</td>\n",
       "      <td>John Carter is a war-weary, former military ca...</td>\n",
       "      <td>43.926995</td>\n",
       "      <td>[{\"name\": \"Walt Disney Pictures\", \"id\": 2}]</td>\n",
       "      <td>[{\"iso_3166_1\": \"US\", \"name\": \"United States o...</td>\n",
       "      <td>2012-03-07</td>\n",
       "      <td>284139100</td>\n",
       "      <td>132.0</td>\n",
       "      <td>[{\"iso_639_1\": \"en\", \"name\": \"English\"}]</td>\n",
       "      <td>Released</td>\n",
       "      <td>Lost in our world, found in another.</td>\n",
       "      <td>John Carter</td>\n",
       "      <td>6.1</td>\n",
       "      <td>2124</td>\n",
       "    </tr>\n",
       "  </tbody>\n",
       "</table>\n",
       "</div>"
      ],
      "text/plain": [
       "      budget                                             genres  \\\n",
       "0  237000000  [{\"id\": 28, \"name\": \"Action\"}, {\"id\": 12, \"nam...   \n",
       "1  300000000  [{\"id\": 12, \"name\": \"Adventure\"}, {\"id\": 14, \"...   \n",
       "2  245000000  [{\"id\": 28, \"name\": \"Action\"}, {\"id\": 12, \"nam...   \n",
       "3  250000000  [{\"id\": 28, \"name\": \"Action\"}, {\"id\": 80, \"nam...   \n",
       "4  260000000  [{\"id\": 28, \"name\": \"Action\"}, {\"id\": 12, \"nam...   \n",
       "\n",
       "                                       homepage      id  \\\n",
       "0                   http://www.avatarmovie.com/   19995   \n",
       "1  http://disney.go.com/disneypictures/pirates/     285   \n",
       "2   http://www.sonypictures.com/movies/spectre/  206647   \n",
       "3            http://www.thedarkknightrises.com/   49026   \n",
       "4          http://movies.disney.com/john-carter   49529   \n",
       "\n",
       "                                            keywords original_language  \\\n",
       "0  [{\"id\": 1463, \"name\": \"culture clash\"}, {\"id\":...                en   \n",
       "1  [{\"id\": 270, \"name\": \"ocean\"}, {\"id\": 726, \"na...                en   \n",
       "2  [{\"id\": 470, \"name\": \"spy\"}, {\"id\": 818, \"name...                en   \n",
       "3  [{\"id\": 849, \"name\": \"dc comics\"}, {\"id\": 853,...                en   \n",
       "4  [{\"id\": 818, \"name\": \"based on novel\"}, {\"id\":...                en   \n",
       "\n",
       "                             original_title  \\\n",
       "0                                    Avatar   \n",
       "1  Pirates of the Caribbean: At World's End   \n",
       "2                                   Spectre   \n",
       "3                     The Dark Knight Rises   \n",
       "4                               John Carter   \n",
       "\n",
       "                                            overview  popularity  \\\n",
       "0  In the 22nd century, a paraplegic Marine is di...  150.437577   \n",
       "1  Captain Barbossa, long believed to be dead, ha...  139.082615   \n",
       "2  A cryptic message from Bond’s past sends him o...  107.376788   \n",
       "3  Following the death of District Attorney Harve...  112.312950   \n",
       "4  John Carter is a war-weary, former military ca...   43.926995   \n",
       "\n",
       "                                production_companies  \\\n",
       "0  [{\"name\": \"Ingenious Film Partners\", \"id\": 289...   \n",
       "1  [{\"name\": \"Walt Disney Pictures\", \"id\": 2}, {\"...   \n",
       "2  [{\"name\": \"Columbia Pictures\", \"id\": 5}, {\"nam...   \n",
       "3  [{\"name\": \"Legendary Pictures\", \"id\": 923}, {\"...   \n",
       "4        [{\"name\": \"Walt Disney Pictures\", \"id\": 2}]   \n",
       "\n",
       "                                production_countries release_date     revenue  \\\n",
       "0  [{\"iso_3166_1\": \"US\", \"name\": \"United States o...   2009-12-10  2787965087   \n",
       "1  [{\"iso_3166_1\": \"US\", \"name\": \"United States o...   2007-05-19   961000000   \n",
       "2  [{\"iso_3166_1\": \"GB\", \"name\": \"United Kingdom\"...   2015-10-26   880674609   \n",
       "3  [{\"iso_3166_1\": \"US\", \"name\": \"United States o...   2012-07-16  1084939099   \n",
       "4  [{\"iso_3166_1\": \"US\", \"name\": \"United States o...   2012-03-07   284139100   \n",
       "\n",
       "   runtime                                   spoken_languages    status  \\\n",
       "0    162.0  [{\"iso_639_1\": \"en\", \"name\": \"English\"}, {\"iso...  Released   \n",
       "1    169.0           [{\"iso_639_1\": \"en\", \"name\": \"English\"}]  Released   \n",
       "2    148.0  [{\"iso_639_1\": \"fr\", \"name\": \"Fran\\u00e7ais\"},...  Released   \n",
       "3    165.0           [{\"iso_639_1\": \"en\", \"name\": \"English\"}]  Released   \n",
       "4    132.0           [{\"iso_639_1\": \"en\", \"name\": \"English\"}]  Released   \n",
       "\n",
       "                                          tagline  \\\n",
       "0                     Enter the World of Pandora.   \n",
       "1  At the end of the world, the adventure begins.   \n",
       "2                           A Plan No One Escapes   \n",
       "3                                 The Legend Ends   \n",
       "4            Lost in our world, found in another.   \n",
       "\n",
       "                                      title  vote_average  vote_count  \n",
       "0                                    Avatar           7.2       11800  \n",
       "1  Pirates of the Caribbean: At World's End           6.9        4500  \n",
       "2                                   Spectre           6.3        4466  \n",
       "3                     The Dark Knight Rises           7.6        9106  \n",
       "4                               John Carter           6.1        2124  "
      ]
     },
     "execution_count": 5,
     "metadata": {},
     "output_type": "execute_result"
    }
   ],
   "source": [
    "movies.head(5)"
   ]
  },
  {
   "cell_type": "code",
   "execution_count": 6,
   "id": "c325c502-3dab-47dd-b947-b0be278e5f6e",
   "metadata": {},
   "outputs": [
    {
     "data": {
      "text/html": [
       "<div>\n",
       "<style scoped>\n",
       "    .dataframe tbody tr th:only-of-type {\n",
       "        vertical-align: middle;\n",
       "    }\n",
       "\n",
       "    .dataframe tbody tr th {\n",
       "        vertical-align: top;\n",
       "    }\n",
       "\n",
       "    .dataframe thead th {\n",
       "        text-align: right;\n",
       "    }\n",
       "</style>\n",
       "<table border=\"1\" class=\"dataframe\">\n",
       "  <thead>\n",
       "    <tr style=\"text-align: right;\">\n",
       "      <th></th>\n",
       "      <th>movie_id</th>\n",
       "      <th>title</th>\n",
       "      <th>cast</th>\n",
       "      <th>crew</th>\n",
       "    </tr>\n",
       "  </thead>\n",
       "  <tbody>\n",
       "    <tr>\n",
       "      <th>0</th>\n",
       "      <td>19995</td>\n",
       "      <td>Avatar</td>\n",
       "      <td>[{\"cast_id\": 242, \"character\": \"Jake Sully\", \"...</td>\n",
       "      <td>[{\"credit_id\": \"52fe48009251416c750aca23\", \"de...</td>\n",
       "    </tr>\n",
       "    <tr>\n",
       "      <th>1</th>\n",
       "      <td>285</td>\n",
       "      <td>Pirates of the Caribbean: At World's End</td>\n",
       "      <td>[{\"cast_id\": 4, \"character\": \"Captain Jack Spa...</td>\n",
       "      <td>[{\"credit_id\": \"52fe4232c3a36847f800b579\", \"de...</td>\n",
       "    </tr>\n",
       "    <tr>\n",
       "      <th>2</th>\n",
       "      <td>206647</td>\n",
       "      <td>Spectre</td>\n",
       "      <td>[{\"cast_id\": 1, \"character\": \"James Bond\", \"cr...</td>\n",
       "      <td>[{\"credit_id\": \"54805967c3a36829b5002c41\", \"de...</td>\n",
       "    </tr>\n",
       "    <tr>\n",
       "      <th>3</th>\n",
       "      <td>49026</td>\n",
       "      <td>The Dark Knight Rises</td>\n",
       "      <td>[{\"cast_id\": 2, \"character\": \"Bruce Wayne / Ba...</td>\n",
       "      <td>[{\"credit_id\": \"52fe4781c3a36847f81398c3\", \"de...</td>\n",
       "    </tr>\n",
       "    <tr>\n",
       "      <th>4</th>\n",
       "      <td>49529</td>\n",
       "      <td>John Carter</td>\n",
       "      <td>[{\"cast_id\": 5, \"character\": \"John Carter\", \"c...</td>\n",
       "      <td>[{\"credit_id\": \"52fe479ac3a36847f813eaa3\", \"de...</td>\n",
       "    </tr>\n",
       "  </tbody>\n",
       "</table>\n",
       "</div>"
      ],
      "text/plain": [
       "   movie_id                                     title  \\\n",
       "0     19995                                    Avatar   \n",
       "1       285  Pirates of the Caribbean: At World's End   \n",
       "2    206647                                   Spectre   \n",
       "3     49026                     The Dark Knight Rises   \n",
       "4     49529                               John Carter   \n",
       "\n",
       "                                                cast  \\\n",
       "0  [{\"cast_id\": 242, \"character\": \"Jake Sully\", \"...   \n",
       "1  [{\"cast_id\": 4, \"character\": \"Captain Jack Spa...   \n",
       "2  [{\"cast_id\": 1, \"character\": \"James Bond\", \"cr...   \n",
       "3  [{\"cast_id\": 2, \"character\": \"Bruce Wayne / Ba...   \n",
       "4  [{\"cast_id\": 5, \"character\": \"John Carter\", \"c...   \n",
       "\n",
       "                                                crew  \n",
       "0  [{\"credit_id\": \"52fe48009251416c750aca23\", \"de...  \n",
       "1  [{\"credit_id\": \"52fe4232c3a36847f800b579\", \"de...  \n",
       "2  [{\"credit_id\": \"54805967c3a36829b5002c41\", \"de...  \n",
       "3  [{\"credit_id\": \"52fe4781c3a36847f81398c3\", \"de...  \n",
       "4  [{\"credit_id\": \"52fe479ac3a36847f813eaa3\", \"de...  "
      ]
     },
     "execution_count": 6,
     "metadata": {},
     "output_type": "execute_result"
    }
   ],
   "source": [
    "credits.head(5)"
   ]
  },
  {
   "cell_type": "code",
   "execution_count": 7,
   "id": "aa2c7284-aa60-4812-ab8b-7da8df770c7f",
   "metadata": {},
   "outputs": [
    {
     "data": {
      "text/plain": [
       "budget                                                          237000000\n",
       "genres                  [{\"id\": 28, \"name\": \"Action\"}, {\"id\": 12, \"nam...\n",
       "homepage                                      http://www.avatarmovie.com/\n",
       "id                                                                  19995\n",
       "keywords                [{\"id\": 1463, \"name\": \"culture clash\"}, {\"id\":...\n",
       "original_language                                                      en\n",
       "original_title                                                     Avatar\n",
       "overview                In the 22nd century, a paraplegic Marine is di...\n",
       "popularity                                                     150.437577\n",
       "production_companies    [{\"name\": \"Ingenious Film Partners\", \"id\": 289...\n",
       "production_countries    [{\"iso_3166_1\": \"US\", \"name\": \"United States o...\n",
       "release_date                                                   2009-12-10\n",
       "revenue                                                        2787965087\n",
       "runtime                                                             162.0\n",
       "spoken_languages        [{\"iso_639_1\": \"en\", \"name\": \"English\"}, {\"iso...\n",
       "status                                                           Released\n",
       "tagline                                       Enter the World of Pandora.\n",
       "title                                                              Avatar\n",
       "vote_average                                                          7.2\n",
       "vote_count                                                          11800\n",
       "Name: 0, dtype: object"
      ]
     },
     "execution_count": 7,
     "metadata": {},
     "output_type": "execute_result"
    }
   ],
   "source": [
    "movies.iloc[0]"
   ]
  },
  {
   "cell_type": "code",
   "execution_count": 8,
   "id": "54aab040-eaf7-4eb4-858b-605f35814635",
   "metadata": {},
   "outputs": [
    {
     "data": {
      "text/plain": [
       "movie_id                                                19995\n",
       "title                                                  Avatar\n",
       "cast        [{\"cast_id\": 242, \"character\": \"Jake Sully\", \"...\n",
       "crew        [{\"credit_id\": \"52fe48009251416c750aca23\", \"de...\n",
       "Name: 0, dtype: object"
      ]
     },
     "execution_count": 8,
     "metadata": {},
     "output_type": "execute_result"
    }
   ],
   "source": [
    "credits.iloc[0]"
   ]
  },
  {
   "cell_type": "markdown",
   "id": "f6438031-113b-4c2f-97c7-05db102cf87e",
   "metadata": {},
   "source": [
    "# Merge on the basis of same Column"
   ]
  },
  {
   "cell_type": "code",
   "execution_count": 10,
   "id": "3673cbfa-4d6e-44ad-952f-eb6f09165cc1",
   "metadata": {},
   "outputs": [],
   "source": [
    "movies=movies.merge(credits,on=\"title\")"
   ]
  },
  {
   "cell_type": "code",
   "execution_count": 11,
   "id": "45fc2df8-4af7-4b17-9928-6fe4b89dcc30",
   "metadata": {},
   "outputs": [
    {
     "data": {
      "text/plain": [
       "budget                                                          237000000\n",
       "genres                  [{\"id\": 28, \"name\": \"Action\"}, {\"id\": 12, \"nam...\n",
       "homepage                                      http://www.avatarmovie.com/\n",
       "id                                                                  19995\n",
       "keywords                [{\"id\": 1463, \"name\": \"culture clash\"}, {\"id\":...\n",
       "original_language                                                      en\n",
       "original_title                                                     Avatar\n",
       "overview                In the 22nd century, a paraplegic Marine is di...\n",
       "popularity                                                     150.437577\n",
       "production_companies    [{\"name\": \"Ingenious Film Partners\", \"id\": 289...\n",
       "production_countries    [{\"iso_3166_1\": \"US\", \"name\": \"United States o...\n",
       "release_date                                                   2009-12-10\n",
       "revenue                                                        2787965087\n",
       "runtime                                                             162.0\n",
       "spoken_languages        [{\"iso_639_1\": \"en\", \"name\": \"English\"}, {\"iso...\n",
       "status                                                           Released\n",
       "tagline                                       Enter the World of Pandora.\n",
       "title                                                              Avatar\n",
       "vote_average                                                          7.2\n",
       "vote_count                                                          11800\n",
       "movie_id                                                            19995\n",
       "cast                    [{\"cast_id\": 242, \"character\": \"Jake Sully\", \"...\n",
       "crew                    [{\"credit_id\": \"52fe48009251416c750aca23\", \"de...\n",
       "Name: 0, dtype: object"
      ]
     },
     "execution_count": 11,
     "metadata": {},
     "output_type": "execute_result"
    }
   ],
   "source": [
    "movies.iloc[0]"
   ]
  },
  {
   "cell_type": "code",
   "execution_count": 12,
   "id": "3303b0bd-e562-4084-b31b-9997bc6d9ee4",
   "metadata": {},
   "outputs": [
    {
     "data": {
      "text/plain": [
       "'[{\"id\": 28, \"name\": \"Action\"}, {\"id\": 12, \"name\": \"Adventure\"}, {\"id\": 14, \"name\": \"Fantasy\"}, {\"id\": 878, \"name\": \"Science Fiction\"}]'"
      ]
     },
     "execution_count": 12,
     "metadata": {},
     "output_type": "execute_result"
    }
   ],
   "source": [
    "movies[\"genres\"][0]"
   ]
  },
  {
   "cell_type": "code",
   "execution_count": 13,
   "id": "e82a55d1-5999-4fb8-8dc4-696380355388",
   "metadata": {},
   "outputs": [
    {
     "data": {
      "text/plain": [
       "'[{\"id\": 1463, \"name\": \"culture clash\"}, {\"id\": 2964, \"name\": \"future\"}, {\"id\": 3386, \"name\": \"space war\"}, {\"id\": 3388, \"name\": \"space colony\"}, {\"id\": 3679, \"name\": \"society\"}, {\"id\": 3801, \"name\": \"space travel\"}, {\"id\": 9685, \"name\": \"futuristic\"}, {\"id\": 9840, \"name\": \"romance\"}, {\"id\": 9882, \"name\": \"space\"}, {\"id\": 9951, \"name\": \"alien\"}, {\"id\": 10148, \"name\": \"tribe\"}, {\"id\": 10158, \"name\": \"alien planet\"}, {\"id\": 10987, \"name\": \"cgi\"}, {\"id\": 11399, \"name\": \"marine\"}, {\"id\": 13065, \"name\": \"soldier\"}, {\"id\": 14643, \"name\": \"battle\"}, {\"id\": 14720, \"name\": \"love affair\"}, {\"id\": 165431, \"name\": \"anti war\"}, {\"id\": 193554, \"name\": \"power relations\"}, {\"id\": 206690, \"name\": \"mind and soul\"}, {\"id\": 209714, \"name\": \"3d\"}]'"
      ]
     },
     "execution_count": 13,
     "metadata": {},
     "output_type": "execute_result"
    }
   ],
   "source": [
    "movies[\"keywords\"][0]"
   ]
  },
  {
   "cell_type": "code",
   "execution_count": 14,
   "id": "0038ad42-81d4-468f-ab9d-e0f21b89ab5f",
   "metadata": {},
   "outputs": [
    {
     "data": {
      "text/plain": [
       "Index(['budget', 'genres', 'homepage', 'id', 'keywords', 'original_language',\n",
       "       'original_title', 'overview', 'popularity', 'production_companies',\n",
       "       'production_countries', 'release_date', 'revenue', 'runtime',\n",
       "       'spoken_languages', 'status', 'tagline', 'title', 'vote_average',\n",
       "       'vote_count', 'movie_id', 'cast', 'crew'],\n",
       "      dtype='object')"
      ]
     },
     "execution_count": 14,
     "metadata": {},
     "output_type": "execute_result"
    }
   ],
   "source": [
    "movies.columns"
   ]
  },
  {
   "cell_type": "markdown",
   "id": "bf11186e-f43b-4863-a6a7-22cc4ffc42db",
   "metadata": {},
   "source": [
    "# Removing Irrelevant Columns\n",
    "\n",
    "\n",
    "\n",
    "\n",
    "\n",
    "\n"
   ]
  },
  {
   "cell_type": "code",
   "execution_count": 16,
   "id": "353fd71c-d330-42ed-9590-02adb262c3d7",
   "metadata": {},
   "outputs": [],
   "source": [
    "movies=movies[[\"genres\",\"keywords\",\"crew\",\"movie_id\",\"cast\",\"overview\",\"title\"]]"
   ]
  },
  {
   "cell_type": "code",
   "execution_count": 17,
   "id": "aa246049-cc33-45ac-957c-e2dbbf7000b6",
   "metadata": {},
   "outputs": [
    {
     "data": {
      "text/plain": [
       "Index(['genres', 'keywords', 'crew', 'movie_id', 'cast', 'overview', 'title'], dtype='object')"
      ]
     },
     "execution_count": 17,
     "metadata": {},
     "output_type": "execute_result"
    }
   ],
   "source": [
    "movies.columns"
   ]
  },
  {
   "cell_type": "code",
   "execution_count": 18,
   "id": "335b2b0e-1f2b-40e5-af71-37a930dd1645",
   "metadata": {},
   "outputs": [
    {
     "data": {
      "text/html": [
       "<div>\n",
       "<style scoped>\n",
       "    .dataframe tbody tr th:only-of-type {\n",
       "        vertical-align: middle;\n",
       "    }\n",
       "\n",
       "    .dataframe tbody tr th {\n",
       "        vertical-align: top;\n",
       "    }\n",
       "\n",
       "    .dataframe thead th {\n",
       "        text-align: right;\n",
       "    }\n",
       "</style>\n",
       "<table border=\"1\" class=\"dataframe\">\n",
       "  <thead>\n",
       "    <tr style=\"text-align: right;\">\n",
       "      <th></th>\n",
       "      <th>genres</th>\n",
       "      <th>keywords</th>\n",
       "      <th>crew</th>\n",
       "      <th>movie_id</th>\n",
       "      <th>cast</th>\n",
       "      <th>overview</th>\n",
       "      <th>title</th>\n",
       "    </tr>\n",
       "  </thead>\n",
       "  <tbody>\n",
       "    <tr>\n",
       "      <th>4121</th>\n",
       "      <td>[{\"id\": 35, \"name\": \"Comedy\"}, {\"id\": 27, \"nam...</td>\n",
       "      <td>[]</td>\n",
       "      <td>[{\"credit_id\": \"54d920369251410a3f00024c\", \"de...</td>\n",
       "      <td>13121</td>\n",
       "      <td>[{\"cast_id\": 3, \"character\": \"Dawn O'Keefe\", \"...</td>\n",
       "      <td>Dawn is an active member of her high-school ch...</td>\n",
       "      <td>Teeth</td>\n",
       "    </tr>\n",
       "    <tr>\n",
       "      <th>225</th>\n",
       "      <td>[{\"id\": 28, \"name\": \"Action\"}, {\"id\": 10751, \"...</td>\n",
       "      <td>[{\"id\": 830, \"name\": \"car race\"}, {\"id\": 963, ...</td>\n",
       "      <td>[{\"credit_id\": \"52fe447fc3a36847f8099949\", \"de...</td>\n",
       "      <td>7459</td>\n",
       "      <td>[{\"cast_id\": 1, \"character\": \"Speed Racer\", \"c...</td>\n",
       "      <td>Speed Racer is the tale of a young and brillia...</td>\n",
       "      <td>Speed Racer</td>\n",
       "    </tr>\n",
       "    <tr>\n",
       "      <th>2364</th>\n",
       "      <td>[{\"id\": 35, \"name\": \"Comedy\"}, {\"id\": 18, \"nam...</td>\n",
       "      <td>[{\"id\": 2971, \"name\": \"grandfather granddaught...</td>\n",
       "      <td>[{\"credit_id\": \"52fe4e739251416c91132147\", \"de...</td>\n",
       "      <td>253235</td>\n",
       "      <td>[{\"cast_id\": 3, \"character\": \"Oren Little\", \"c...</td>\n",
       "      <td>A self-centered realtor enlists the help of hi...</td>\n",
       "      <td>And So It Goes</td>\n",
       "    </tr>\n",
       "    <tr>\n",
       "      <th>1758</th>\n",
       "      <td>[{\"id\": 18, \"name\": \"Drama\"}, {\"id\": 35, \"name...</td>\n",
       "      <td>[{\"id\": 212, \"name\": \"london england\"}, {\"id\":...</td>\n",
       "      <td>[{\"credit_id\": \"52fe422cc3a36847f8009b63\", \"de...</td>\n",
       "      <td>245</td>\n",
       "      <td>[{\"cast_id\": 7, \"character\": \"Will\", \"credit_i...</td>\n",
       "      <td>Will Freeman is a hip Londoner who one day rea...</td>\n",
       "      <td>About a Boy</td>\n",
       "    </tr>\n",
       "    <tr>\n",
       "      <th>1276</th>\n",
       "      <td>[{\"id\": 878, \"name\": \"Science Fiction\"}, {\"id\"...</td>\n",
       "      <td>[{\"id\": 83, \"name\": \"saving the world\"}, {\"id\"...</td>\n",
       "      <td>[{\"credit_id\": \"5378a9080e0a261425004f95\", \"de...</td>\n",
       "      <td>1272</td>\n",
       "      <td>[{\"cast_id\": 5, \"character\": \"Robert Capa\", \"c...</td>\n",
       "      <td>Fifty years into the future, the sun is dying,...</td>\n",
       "      <td>Sunshine</td>\n",
       "    </tr>\n",
       "  </tbody>\n",
       "</table>\n",
       "</div>"
      ],
      "text/plain": [
       "                                                 genres  \\\n",
       "4121  [{\"id\": 35, \"name\": \"Comedy\"}, {\"id\": 27, \"nam...   \n",
       "225   [{\"id\": 28, \"name\": \"Action\"}, {\"id\": 10751, \"...   \n",
       "2364  [{\"id\": 35, \"name\": \"Comedy\"}, {\"id\": 18, \"nam...   \n",
       "1758  [{\"id\": 18, \"name\": \"Drama\"}, {\"id\": 35, \"name...   \n",
       "1276  [{\"id\": 878, \"name\": \"Science Fiction\"}, {\"id\"...   \n",
       "\n",
       "                                               keywords  \\\n",
       "4121                                                 []   \n",
       "225   [{\"id\": 830, \"name\": \"car race\"}, {\"id\": 963, ...   \n",
       "2364  [{\"id\": 2971, \"name\": \"grandfather granddaught...   \n",
       "1758  [{\"id\": 212, \"name\": \"london england\"}, {\"id\":...   \n",
       "1276  [{\"id\": 83, \"name\": \"saving the world\"}, {\"id\"...   \n",
       "\n",
       "                                                   crew  movie_id  \\\n",
       "4121  [{\"credit_id\": \"54d920369251410a3f00024c\", \"de...     13121   \n",
       "225   [{\"credit_id\": \"52fe447fc3a36847f8099949\", \"de...      7459   \n",
       "2364  [{\"credit_id\": \"52fe4e739251416c91132147\", \"de...    253235   \n",
       "1758  [{\"credit_id\": \"52fe422cc3a36847f8009b63\", \"de...       245   \n",
       "1276  [{\"credit_id\": \"5378a9080e0a261425004f95\", \"de...      1272   \n",
       "\n",
       "                                                   cast  \\\n",
       "4121  [{\"cast_id\": 3, \"character\": \"Dawn O'Keefe\", \"...   \n",
       "225   [{\"cast_id\": 1, \"character\": \"Speed Racer\", \"c...   \n",
       "2364  [{\"cast_id\": 3, \"character\": \"Oren Little\", \"c...   \n",
       "1758  [{\"cast_id\": 7, \"character\": \"Will\", \"credit_i...   \n",
       "1276  [{\"cast_id\": 5, \"character\": \"Robert Capa\", \"c...   \n",
       "\n",
       "                                               overview           title  \n",
       "4121  Dawn is an active member of her high-school ch...           Teeth  \n",
       "225   Speed Racer is the tale of a young and brillia...     Speed Racer  \n",
       "2364  A self-centered realtor enlists the help of hi...  And So It Goes  \n",
       "1758  Will Freeman is a hip Londoner who one day rea...     About a Boy  \n",
       "1276  Fifty years into the future, the sun is dying,...        Sunshine  "
      ]
     },
     "execution_count": 18,
     "metadata": {},
     "output_type": "execute_result"
    }
   ],
   "source": [
    "movies.sample(5)"
   ]
  },
  {
   "cell_type": "markdown",
   "id": "24d0df59-6d63-4459-b604-6fc611cf4b7a",
   "metadata": {},
   "source": [
    "# Identifying and Removing Null Values and Duplicates\n",
    "\n",
    "\n",
    "\n",
    "\n",
    "\n",
    "\n"
   ]
  },
  {
   "cell_type": "code",
   "execution_count": 20,
   "id": "2264e511-52fc-44b9-ac82-7a7ac5c62649",
   "metadata": {},
   "outputs": [
    {
     "data": {
      "text/plain": [
       "genres      0\n",
       "keywords    0\n",
       "crew        0\n",
       "movie_id    0\n",
       "cast        0\n",
       "overview    3\n",
       "title       0\n",
       "dtype: int64"
      ]
     },
     "execution_count": 20,
     "metadata": {},
     "output_type": "execute_result"
    }
   ],
   "source": [
    "movies.isnull().sum()"
   ]
  },
  {
   "cell_type": "code",
   "execution_count": 21,
   "id": "b4fa2f9b-67d4-40bd-b5c9-97bb84d5b13a",
   "metadata": {},
   "outputs": [],
   "source": [
    "movies.dropna(inplace=True)"
   ]
  },
  {
   "cell_type": "code",
   "execution_count": 22,
   "id": "093812c2-b101-4871-a632-52df1fee24d0",
   "metadata": {},
   "outputs": [
    {
     "data": {
      "text/plain": [
       "genres      0\n",
       "keywords    0\n",
       "crew        0\n",
       "movie_id    0\n",
       "cast        0\n",
       "overview    0\n",
       "title       0\n",
       "dtype: int64"
      ]
     },
     "execution_count": 22,
     "metadata": {},
     "output_type": "execute_result"
    }
   ],
   "source": [
    "movies.isnull().sum()"
   ]
  },
  {
   "cell_type": "code",
   "execution_count": 23,
   "id": "7509201c-dc9d-428d-b755-6f24dc389092",
   "metadata": {},
   "outputs": [
    {
     "data": {
      "text/plain": [
       "0"
      ]
     },
     "execution_count": 23,
     "metadata": {},
     "output_type": "execute_result"
    }
   ],
   "source": [
    "movies.duplicated().sum()"
   ]
  },
  {
   "cell_type": "markdown",
   "id": "8f455efa-9d46-446d-9687-8fcb75d41f0e",
   "metadata": {},
   "source": [
    "# Converting String Columns into Lists Using the ast Library\n",
    "\n",
    "\n",
    "\n",
    "\n",
    "\n",
    "\n"
   ]
  },
  {
   "cell_type": "code",
   "execution_count": 25,
   "id": "16ac38b6-7819-4483-8d46-e90f365c0c6f",
   "metadata": {
    "scrolled": true
   },
   "outputs": [
    {
     "data": {
      "text/plain": [
       "'[{\"id\": 28, \"name\": \"Action\"}, {\"id\": 12, \"name\": \"Adventure\"}, {\"id\": 14, \"name\": \"Fantasy\"}, {\"id\": 878, \"name\": \"Science Fiction\"}]'"
      ]
     },
     "execution_count": 25,
     "metadata": {},
     "output_type": "execute_result"
    }
   ],
   "source": [
    "movies.iloc[0].genres"
   ]
  },
  {
   "cell_type": "code",
   "execution_count": 26,
   "id": "660a2c1b-8b44-4332-91ab-e15c985f2eab",
   "metadata": {},
   "outputs": [],
   "source": [
    "import ast"
   ]
  },
  {
   "cell_type": "code",
   "execution_count": 27,
   "id": "53ca54ec-a73d-42ea-8323-5307b00416c1",
   "metadata": {},
   "outputs": [],
   "source": [
    "def convert_genre(obj):\n",
    "    L=[]\n",
    "    for i in ast.literal_eval(obj):\n",
    "        L.append(i[\"name\"])\n",
    "    return L"
   ]
  },
  {
   "cell_type": "code",
   "execution_count": 28,
   "id": "5a34fd34-8ce5-489e-a26f-67f7ffa0d933",
   "metadata": {},
   "outputs": [],
   "source": [
    "movies.genres=movies.genres.apply(convert_genre)"
   ]
  },
  {
   "cell_type": "code",
   "execution_count": 29,
   "id": "3b3717fa-918c-4c41-a944-e9aff45faba0",
   "metadata": {},
   "outputs": [
    {
     "data": {
      "text/plain": [
       "['Action', 'Adventure', 'Fantasy', 'Science Fiction']"
      ]
     },
     "execution_count": 29,
     "metadata": {},
     "output_type": "execute_result"
    }
   ],
   "source": [
    "movies.iloc[0].genres"
   ]
  },
  {
   "cell_type": "code",
   "execution_count": 30,
   "id": "1e60ef5e-2085-4c1f-8fc6-873f90bd7e8b",
   "metadata": {},
   "outputs": [
    {
     "data": {
      "text/plain": [
       "'[{\"id\": 1463, \"name\": \"culture clash\"}, {\"id\": 2964, \"name\": \"future\"}, {\"id\": 3386, \"name\": \"space war\"}, {\"id\": 3388, \"name\": \"space colony\"}, {\"id\": 3679, \"name\": \"society\"}, {\"id\": 3801, \"name\": \"space travel\"}, {\"id\": 9685, \"name\": \"futuristic\"}, {\"id\": 9840, \"name\": \"romance\"}, {\"id\": 9882, \"name\": \"space\"}, {\"id\": 9951, \"name\": \"alien\"}, {\"id\": 10148, \"name\": \"tribe\"}, {\"id\": 10158, \"name\": \"alien planet\"}, {\"id\": 10987, \"name\": \"cgi\"}, {\"id\": 11399, \"name\": \"marine\"}, {\"id\": 13065, \"name\": \"soldier\"}, {\"id\": 14643, \"name\": \"battle\"}, {\"id\": 14720, \"name\": \"love affair\"}, {\"id\": 165431, \"name\": \"anti war\"}, {\"id\": 193554, \"name\": \"power relations\"}, {\"id\": 206690, \"name\": \"mind and soul\"}, {\"id\": 209714, \"name\": \"3d\"}]'"
      ]
     },
     "execution_count": 30,
     "metadata": {},
     "output_type": "execute_result"
    }
   ],
   "source": [
    "movies.iloc[0].keywords"
   ]
  },
  {
   "cell_type": "code",
   "execution_count": 31,
   "id": "ed7c8ef9-3d89-4287-81e0-75830d6570c6",
   "metadata": {},
   "outputs": [],
   "source": [
    "def convert_keywords(obj):\n",
    "    L=[]\n",
    "    for i in ast.literal_eval(obj):\n",
    "        L.append(i[\"name\"])\n",
    "    return L"
   ]
  },
  {
   "cell_type": "code",
   "execution_count": 32,
   "id": "32574893-db07-4a83-9dd5-8cc2b2d3ee78",
   "metadata": {},
   "outputs": [],
   "source": [
    "movies.keywords=movies.keywords.apply(convert_keywords)"
   ]
  },
  {
   "cell_type": "code",
   "execution_count": 33,
   "id": "0146e8ed-e722-49db-b64b-7b4e3bc6eac8",
   "metadata": {},
   "outputs": [
    {
     "data": {
      "text/plain": [
       "['culture clash',\n",
       " 'future',\n",
       " 'space war',\n",
       " 'space colony',\n",
       " 'society',\n",
       " 'space travel',\n",
       " 'futuristic',\n",
       " 'romance',\n",
       " 'space',\n",
       " 'alien',\n",
       " 'tribe',\n",
       " 'alien planet',\n",
       " 'cgi',\n",
       " 'marine',\n",
       " 'soldier',\n",
       " 'battle',\n",
       " 'love affair',\n",
       " 'anti war',\n",
       " 'power relations',\n",
       " 'mind and soul',\n",
       " '3d']"
      ]
     },
     "execution_count": 33,
     "metadata": {},
     "output_type": "execute_result"
    }
   ],
   "source": [
    "movies.iloc[0].keywords"
   ]
  },
  {
   "cell_type": "code",
   "execution_count": 34,
   "id": "0f2b43a1-ffa3-49b4-a56d-778ce1ec2bf7",
   "metadata": {},
   "outputs": [
    {
     "data": {
      "text/plain": [
       "'[{\"credit_id\": \"52fe48009251416c750aca23\", \"department\": \"Editing\", \"gender\": 0, \"id\": 1721, \"job\": \"Editor\", \"name\": \"Stephen E. Rivkin\"}, {\"credit_id\": \"539c47ecc3a36810e3001f87\", \"department\": \"Art\", \"gender\": 2, \"id\": 496, \"job\": \"Production Design\", \"name\": \"Rick Carter\"}, {\"credit_id\": \"54491c89c3a3680fb4001cf7\", \"department\": \"Sound\", \"gender\": 0, \"id\": 900, \"job\": \"Sound Designer\", \"name\": \"Christopher Boyes\"}, {\"credit_id\": \"54491cb70e0a267480001bd0\", \"department\": \"Sound\", \"gender\": 0, \"id\": 900, \"job\": \"Supervising Sound Editor\", \"name\": \"Christopher Boyes\"}, {\"credit_id\": \"539c4a4cc3a36810c9002101\", \"department\": \"Production\", \"gender\": 1, \"id\": 1262, \"job\": \"Casting\", \"name\": \"Mali Finn\"}, {\"credit_id\": \"5544ee3b925141499f0008fc\", \"department\": \"Sound\", \"gender\": 2, \"id\": 1729, \"job\": \"Original Music Composer\", \"name\": \"James Horner\"}, {\"credit_id\": \"52fe48009251416c750ac9c3\", \"department\": \"Directing\", \"gender\": 2, \"id\": 2710, \"job\": \"Director\", \"name\": \"James Cameron\"}, {\"credit_id\": \"52fe48009251416c750ac9d9\", \"department\": \"Writing\", \"gender\": 2, \"id\": 2710, \"job\": \"Writer\", \"name\": \"James Cameron\"}, {\"credit_id\": \"52fe48009251416c750aca17\", \"department\": \"Editing\", \"gender\": 2, \"id\": 2710, \"job\": \"Editor\", \"name\": \"James Cameron\"}, {\"credit_id\": \"52fe48009251416c750aca29\", \"department\": \"Production\", \"gender\": 2, \"id\": 2710, \"job\": \"Producer\", \"name\": \"James Cameron\"}, {\"credit_id\": \"52fe48009251416c750aca3f\", \"department\": \"Writing\", \"gender\": 2, \"id\": 2710, \"job\": \"Screenplay\", \"name\": \"James Cameron\"}, {\"credit_id\": \"539c4987c3a36810ba0021a4\", \"department\": \"Art\", \"gender\": 2, \"id\": 7236, \"job\": \"Art Direction\", \"name\": \"Andrew Menzies\"}, {\"credit_id\": \"549598c3c3a3686ae9004383\", \"department\": \"Visual Effects\", \"gender\": 0, \"id\": 6690, \"job\": \"Visual Effects Producer\", \"name\": \"Jill Brooks\"}, {\"credit_id\": \"52fe48009251416c750aca4b\", \"department\": \"Production\", \"gender\": 1, \"id\": 6347, \"job\": \"Casting\", \"name\": \"Margery Simkin\"}, {\"credit_id\": \"570b6f419251417da70032fe\", \"department\": \"Art\", \"gender\": 2, \"id\": 6878, \"job\": \"Supervising Art Director\", \"name\": \"Kevin Ishioka\"}, {\"credit_id\": \"5495a0fac3a3686ae9004468\", \"department\": \"Sound\", \"gender\": 0, \"id\": 6883, \"job\": \"Music Editor\", \"name\": \"Dick Bernstein\"}, {\"credit_id\": \"54959706c3a3686af3003e81\", \"department\": \"Sound\", \"gender\": 0, \"id\": 8159, \"job\": \"Sound Effects Editor\", \"name\": \"Shannon Mills\"}, {\"credit_id\": \"54491d58c3a3680fb1001ccb\", \"department\": \"Sound\", \"gender\": 0, \"id\": 8160, \"job\": \"Foley\", \"name\": \"Dennie Thorpe\"}, {\"credit_id\": \"54491d6cc3a3680fa5001b2c\", \"department\": \"Sound\", \"gender\": 0, \"id\": 8163, \"job\": \"Foley\", \"name\": \"Jana Vance\"}, {\"credit_id\": \"52fe48009251416c750aca57\", \"department\": \"Costume & Make-Up\", \"gender\": 1, \"id\": 8527, \"job\": \"Costume Design\", \"name\": \"Deborah Lynn Scott\"}, {\"credit_id\": \"52fe48009251416c750aca2f\", \"department\": \"Production\", \"gender\": 2, \"id\": 8529, \"job\": \"Producer\", \"name\": \"Jon Landau\"}, {\"credit_id\": \"539c4937c3a36810ba002194\", \"department\": \"Art\", \"gender\": 0, \"id\": 9618, \"job\": \"Art Direction\", \"name\": \"Sean Haworth\"}, {\"credit_id\": \"539c49b6c3a36810c10020e6\", \"department\": \"Art\", \"gender\": 1, \"id\": 12653, \"job\": \"Set Decoration\", \"name\": \"Kim Sinclair\"}, {\"credit_id\": \"570b6f2f9251413a0e00020d\", \"department\": \"Art\", \"gender\": 1, \"id\": 12653, \"job\": \"Supervising Art Director\", \"name\": \"Kim Sinclair\"}, {\"credit_id\": \"54491a6c0e0a26748c001b19\", \"department\": \"Art\", \"gender\": 2, \"id\": 14350, \"job\": \"Set Designer\", \"name\": \"Richard F. Mays\"}, {\"credit_id\": \"56928cf4c3a3684cff0025c4\", \"department\": \"Production\", \"gender\": 1, \"id\": 20294, \"job\": \"Executive Producer\", \"name\": \"Laeta Kalogridis\"}, {\"credit_id\": \"52fe48009251416c750aca51\", \"department\": \"Costume & Make-Up\", \"gender\": 0, \"id\": 17675, \"job\": \"Costume Design\", \"name\": \"Mayes C. Rubeo\"}, {\"credit_id\": \"52fe48009251416c750aca11\", \"department\": \"Camera\", \"gender\": 2, \"id\": 18265, \"job\": \"Director of Photography\", \"name\": \"Mauro Fiore\"}, {\"credit_id\": \"5449194d0e0a26748f001b39\", \"department\": \"Art\", \"gender\": 0, \"id\": 42281, \"job\": \"Set Designer\", \"name\": \"Scott Herbertson\"}, {\"credit_id\": \"52fe48009251416c750aca05\", \"department\": \"Crew\", \"gender\": 0, \"id\": 42288, \"job\": \"Stunts\", \"name\": \"Woody Schultz\"}, {\"credit_id\": \"5592aefb92514152de0010f5\", \"department\": \"Costume & Make-Up\", \"gender\": 0, \"id\": 29067, \"job\": \"Makeup Artist\", \"name\": \"Linda DeVetta\"}, {\"credit_id\": \"5592afa492514152de00112c\", \"department\": \"Costume & Make-Up\", \"gender\": 0, \"id\": 29067, \"job\": \"Hairstylist\", \"name\": \"Linda DeVetta\"}, {\"credit_id\": \"54959ed592514130fc002e5d\", \"department\": \"Camera\", \"gender\": 2, \"id\": 33302, \"job\": \"Camera Operator\", \"name\": \"Richard Bluck\"}, {\"credit_id\": \"539c4891c3a36810ba002147\", \"department\": \"Art\", \"gender\": 2, \"id\": 33303, \"job\": \"Art Direction\", \"name\": \"Simon Bright\"}, {\"credit_id\": \"54959c069251417a81001f3a\", \"department\": \"Visual Effects\", \"gender\": 0, \"id\": 113145, \"job\": \"Visual Effects Supervisor\", \"name\": \"Richard Martin\"}, {\"credit_id\": \"54959a0dc3a3680ff5002c8d\", \"department\": \"Crew\", \"gender\": 2, \"id\": 58188, \"job\": \"Visual Effects Editor\", \"name\": \"Steve R. Moore\"}, {\"credit_id\": \"52fe48009251416c750aca1d\", \"department\": \"Editing\", \"gender\": 2, \"id\": 58871, \"job\": \"Editor\", \"name\": \"John Refoua\"}, {\"credit_id\": \"54491a4dc3a3680fc30018ca\", \"department\": \"Art\", \"gender\": 0, \"id\": 92359, \"job\": \"Set Designer\", \"name\": \"Karl J. Martin\"}, {\"credit_id\": \"52fe48009251416c750aca35\", \"department\": \"Camera\", \"gender\": 1, \"id\": 72201, \"job\": \"Director of Photography\", \"name\": \"Chiling Lin\"}, {\"credit_id\": \"52fe48009251416c750ac9ff\", \"department\": \"Crew\", \"gender\": 0, \"id\": 89714, \"job\": \"Stunts\", \"name\": \"Ilram Choi\"}, {\"credit_id\": \"54959c529251416e2b004394\", \"department\": \"Visual Effects\", \"gender\": 2, \"id\": 93214, \"job\": \"Visual Effects Supervisor\", \"name\": \"Steven Quale\"}, {\"credit_id\": \"54491edf0e0a267489001c37\", \"department\": \"Crew\", \"gender\": 1, \"id\": 122607, \"job\": \"Dialect Coach\", \"name\": \"Carla Meyer\"}, {\"credit_id\": \"539c485bc3a368653d001a3a\", \"department\": \"Art\", \"gender\": 2, \"id\": 132585, \"job\": \"Art Direction\", \"name\": \"Nick Bassett\"}, {\"credit_id\": \"539c4903c3a368653d001a74\", \"department\": \"Art\", \"gender\": 0, \"id\": 132596, \"job\": \"Art Direction\", \"name\": \"Jill Cormack\"}, {\"credit_id\": \"539c4967c3a368653d001a94\", \"department\": \"Art\", \"gender\": 0, \"id\": 132604, \"job\": \"Art Direction\", \"name\": \"Andy McLaren\"}, {\"credit_id\": \"52fe48009251416c750aca45\", \"department\": \"Crew\", \"gender\": 0, \"id\": 236696, \"job\": \"Motion Capture Artist\", \"name\": \"Terry Notary\"}, {\"credit_id\": \"54959e02c3a3680fc60027d2\", \"department\": \"Crew\", \"gender\": 2, \"id\": 956198, \"job\": \"Stunt Coordinator\", \"name\": \"Garrett Warren\"}, {\"credit_id\": \"54959ca3c3a3686ae300438c\", \"department\": \"Visual Effects\", \"gender\": 2, \"id\": 957874, \"job\": \"Visual Effects Supervisor\", \"name\": \"Jonathan Rothbart\"}, {\"credit_id\": \"570b6f519251412c74001b2f\", \"department\": \"Art\", \"gender\": 0, \"id\": 957889, \"job\": \"Supervising Art Director\", \"name\": \"Stefan Dechant\"}, {\"credit_id\": \"570b6f62c3a3680b77007460\", \"department\": \"Art\", \"gender\": 2, \"id\": 959555, \"job\": \"Supervising Art Director\", \"name\": \"Todd Cherniawsky\"}, {\"credit_id\": \"539c4a3ac3a36810da0021cc\", \"department\": \"Production\", \"gender\": 0, \"id\": 1016177, \"job\": \"Casting\", \"name\": \"Miranda Rivers\"}, {\"credit_id\": \"539c482cc3a36810c1002062\", \"department\": \"Art\", \"gender\": 0, \"id\": 1032536, \"job\": \"Production Design\", \"name\": \"Robert Stromberg\"}, {\"credit_id\": \"539c4b65c3a36810c9002125\", \"department\": \"Costume & Make-Up\", \"gender\": 2, \"id\": 1071680, \"job\": \"Costume Design\", \"name\": \"John Harding\"}, {\"credit_id\": \"54959e6692514130fc002e4e\", \"department\": \"Camera\", \"gender\": 0, \"id\": 1177364, \"job\": \"Steadicam Operator\", \"name\": \"Roberto De Angelis\"}, {\"credit_id\": \"539c49f1c3a368653d001aac\", \"department\": \"Costume & Make-Up\", \"gender\": 2, \"id\": 1202850, \"job\": \"Makeup Department Head\", \"name\": \"Mike Smithson\"}, {\"credit_id\": \"5495999ec3a3686ae100460c\", \"department\": \"Visual Effects\", \"gender\": 0, \"id\": 1204668, \"job\": \"Visual Effects Producer\", \"name\": \"Alain Lalanne\"}, {\"credit_id\": \"54959cdfc3a3681153002729\", \"department\": \"Visual Effects\", \"gender\": 0, \"id\": 1206410, \"job\": \"Visual Effects Supervisor\", \"name\": \"Lucas Salton\"}, {\"credit_id\": \"549596239251417a81001eae\", \"department\": \"Crew\", \"gender\": 0, \"id\": 1234266, \"job\": \"Post Production Supervisor\", \"name\": \"Janace Tashjian\"}, {\"credit_id\": \"54959c859251416e1e003efe\", \"department\": \"Visual Effects\", \"gender\": 0, \"id\": 1271932, \"job\": \"Visual Effects Supervisor\", \"name\": \"Stephen Rosenbaum\"}, {\"credit_id\": \"5592af28c3a368775a00105f\", \"department\": \"Costume & Make-Up\", \"gender\": 0, \"id\": 1310064, \"job\": \"Makeup Artist\", \"name\": \"Frankie Karena\"}, {\"credit_id\": \"539c4adfc3a36810e300203b\", \"department\": \"Costume & Make-Up\", \"gender\": 1, \"id\": 1319844, \"job\": \"Costume Supervisor\", \"name\": \"Lisa Lovaas\"}, {\"credit_id\": \"54959b579251416e2b004371\", \"department\": \"Visual Effects\", \"gender\": 0, \"id\": 1327028, \"job\": \"Visual Effects Supervisor\", \"name\": \"Jonathan Fawkner\"}, {\"credit_id\": \"539c48a7c3a36810b5001fa7\", \"department\": \"Art\", \"gender\": 0, \"id\": 1330561, \"job\": \"Art Direction\", \"name\": \"Robert Bavin\"}, {\"credit_id\": \"539c4a71c3a36810da0021e0\", \"department\": \"Costume & Make-Up\", \"gender\": 0, \"id\": 1330567, \"job\": \"Costume Supervisor\", \"name\": \"Anthony Almaraz\"}, {\"credit_id\": \"539c4a8ac3a36810ba0021e4\", \"department\": \"Costume & Make-Up\", \"gender\": 0, \"id\": 1330570, \"job\": \"Costume Supervisor\", \"name\": \"Carolyn M. Fenton\"}, {\"credit_id\": \"539c4ab6c3a36810da0021f0\", \"department\": \"Costume & Make-Up\", \"gender\": 0, \"id\": 1330574, \"job\": \"Costume Supervisor\", \"name\": \"Beth Koenigsberg\"}, {\"credit_id\": \"54491ab70e0a267480001ba2\", \"department\": \"Art\", \"gender\": 0, \"id\": 1336191, \"job\": \"Set Designer\", \"name\": \"Sam Page\"}, {\"credit_id\": \"544919d9c3a3680fc30018bd\", \"department\": \"Art\", \"gender\": 0, \"id\": 1339441, \"job\": \"Set Designer\", \"name\": \"Tex Kadonaga\"}, {\"credit_id\": \"54491cf50e0a267483001b0c\", \"department\": \"Editing\", \"gender\": 0, \"id\": 1352422, \"job\": \"Dialogue Editor\", \"name\": \"Kim Foscato\"}, {\"credit_id\": \"544919f40e0a26748c001b09\", \"department\": \"Art\", \"gender\": 0, \"id\": 1352962, \"job\": \"Set Designer\", \"name\": \"Tammy S. Lee\"}, {\"credit_id\": \"5495a115c3a3680ff5002d71\", \"department\": \"Crew\", \"gender\": 0, \"id\": 1357070, \"job\": \"Transportation Coordinator\", \"name\": \"Denny Caira\"}, {\"credit_id\": \"5495a12f92514130fc002e94\", \"department\": \"Crew\", \"gender\": 0, \"id\": 1357071, \"job\": \"Transportation Coordinator\", \"name\": \"James Waitkus\"}, {\"credit_id\": \"5495976fc3a36811530026b0\", \"department\": \"Sound\", \"gender\": 0, \"id\": 1360103, \"job\": \"Supervising Sound Editor\", \"name\": \"Addison Teague\"}, {\"credit_id\": \"54491837c3a3680fb1001c5a\", \"department\": \"Art\", \"gender\": 2, \"id\": 1376887, \"job\": \"Set Designer\", \"name\": \"C. Scott Baker\"}, {\"credit_id\": \"54491878c3a3680fb4001c9d\", \"department\": \"Art\", \"gender\": 0, \"id\": 1376888, \"job\": \"Set Designer\", \"name\": \"Luke Caska\"}, {\"credit_id\": \"544918dac3a3680fa5001ae0\", \"department\": \"Art\", \"gender\": 0, \"id\": 1376889, \"job\": \"Set Designer\", \"name\": \"David Chow\"}, {\"credit_id\": \"544919110e0a267486001b68\", \"department\": \"Art\", \"gender\": 0, \"id\": 1376890, \"job\": \"Set Designer\", \"name\": \"Jonathan Dyer\"}, {\"credit_id\": \"54491967c3a3680faa001b5e\", \"department\": \"Art\", \"gender\": 0, \"id\": 1376891, \"job\": \"Set Designer\", \"name\": \"Joseph Hiura\"}, {\"credit_id\": \"54491997c3a3680fb1001c8a\", \"department\": \"Art\", \"gender\": 0, \"id\": 1376892, \"job\": \"Art Department Coordinator\", \"name\": \"Rebecca Jellie\"}, {\"credit_id\": \"544919ba0e0a26748f001b42\", \"department\": \"Art\", \"gender\": 0, \"id\": 1376893, \"job\": \"Set Designer\", \"name\": \"Robert Andrew Johnson\"}, {\"credit_id\": \"54491b1dc3a3680faa001b8c\", \"department\": \"Art\", \"gender\": 0, \"id\": 1376895, \"job\": \"Assistant Art Director\", \"name\": \"Mike Stassi\"}, {\"credit_id\": \"54491b79c3a3680fbb001826\", \"department\": \"Art\", \"gender\": 0, \"id\": 1376897, \"job\": \"Construction Coordinator\", \"name\": \"John Villarino\"}, {\"credit_id\": \"54491baec3a3680fb4001ce6\", \"department\": \"Art\", \"gender\": 2, \"id\": 1376898, \"job\": \"Assistant Art Director\", \"name\": \"Jeffrey Wisniewski\"}, {\"credit_id\": \"54491d2fc3a3680fb4001d07\", \"department\": \"Editing\", \"gender\": 0, \"id\": 1376899, \"job\": \"Dialogue Editor\", \"name\": \"Cheryl Nardi\"}, {\"credit_id\": \"54491d86c3a3680fa5001b2f\", \"department\": \"Editing\", \"gender\": 0, \"id\": 1376901, \"job\": \"Dialogue Editor\", \"name\": \"Marshall Winn\"}, {\"credit_id\": \"54491d9dc3a3680faa001bb0\", \"department\": \"Sound\", \"gender\": 0, \"id\": 1376902, \"job\": \"Supervising Sound Editor\", \"name\": \"Gwendolyn Yates Whittle\"}, {\"credit_id\": \"54491dc10e0a267486001bce\", \"department\": \"Sound\", \"gender\": 0, \"id\": 1376903, \"job\": \"Sound Re-Recording Mixer\", \"name\": \"William Stein\"}, {\"credit_id\": \"54491f500e0a26747c001c07\", \"department\": \"Crew\", \"gender\": 0, \"id\": 1376909, \"job\": \"Choreographer\", \"name\": \"Lula Washington\"}, {\"credit_id\": \"549599239251412c4e002a2e\", \"department\": \"Visual Effects\", \"gender\": 0, \"id\": 1391692, \"job\": \"Visual Effects Producer\", \"name\": \"Chris Del Conte\"}, {\"credit_id\": \"54959d54c3a36831b8001d9a\", \"department\": \"Visual Effects\", \"gender\": 2, \"id\": 1391695, \"job\": \"Visual Effects Supervisor\", \"name\": \"R. Christopher White\"}, {\"credit_id\": \"54959bdf9251412c4e002a66\", \"department\": \"Visual Effects\", \"gender\": 0, \"id\": 1394070, \"job\": \"Visual Effects Supervisor\", \"name\": \"Dan Lemmon\"}, {\"credit_id\": \"5495971d92514132ed002922\", \"department\": \"Sound\", \"gender\": 0, \"id\": 1394129, \"job\": \"Sound Effects Editor\", \"name\": \"Tim Nielsen\"}, {\"credit_id\": \"5592b25792514152cc0011aa\", \"department\": \"Crew\", \"gender\": 0, \"id\": 1394286, \"job\": \"CG Supervisor\", \"name\": \"Michael Mulholland\"}, {\"credit_id\": \"54959a329251416e2b004355\", \"department\": \"Crew\", \"gender\": 0, \"id\": 1394750, \"job\": \"Visual Effects Editor\", \"name\": \"Thomas Nittmann\"}, {\"credit_id\": \"54959d6dc3a3686ae9004401\", \"department\": \"Visual Effects\", \"gender\": 0, \"id\": 1394755, \"job\": \"Visual Effects Supervisor\", \"name\": \"Edson Williams\"}, {\"credit_id\": \"5495a08fc3a3686ae300441c\", \"department\": \"Editing\", \"gender\": 0, \"id\": 1394953, \"job\": \"Digital Intermediate\", \"name\": \"Christine Carr\"}, {\"credit_id\": \"55402d659251413d6d000249\", \"department\": \"Visual Effects\", \"gender\": 0, \"id\": 1395269, \"job\": \"Visual Effects Supervisor\", \"name\": \"John Bruno\"}, {\"credit_id\": \"54959e7b9251416e1e003f3e\", \"department\": \"Camera\", \"gender\": 0, \"id\": 1398970, \"job\": \"Steadicam Operator\", \"name\": \"David Emmerichs\"}, {\"credit_id\": \"54959734c3a3686ae10045e0\", \"department\": \"Sound\", \"gender\": 0, \"id\": 1400906, \"job\": \"Sound Effects Editor\", \"name\": \"Christopher Scarabosio\"}, {\"credit_id\": \"549595dd92514130fc002d79\", \"department\": \"Production\", \"gender\": 0, \"id\": 1401784, \"job\": \"Production Supervisor\", \"name\": \"Jennifer Teves\"}, {\"credit_id\": \"549596009251413af70028cc\", \"department\": \"Production\", \"gender\": 0, \"id\": 1401785, \"job\": \"Production Manager\", \"name\": \"Brigitte Yorke\"}, {\"credit_id\": \"549596e892514130fc002d99\", \"department\": \"Sound\", \"gender\": 0, \"id\": 1401786, \"job\": \"Sound Effects Editor\", \"name\": \"Ken Fischer\"}, {\"credit_id\": \"549598229251412c4e002a1c\", \"department\": \"Crew\", \"gender\": 0, \"id\": 1401787, \"job\": \"Special Effects Coordinator\", \"name\": \"Iain Hutton\"}, {\"credit_id\": \"549598349251416e2b00432b\", \"department\": \"Crew\", \"gender\": 0, \"id\": 1401788, \"job\": \"Special Effects Coordinator\", \"name\": \"Steve Ingram\"}, {\"credit_id\": \"54959905c3a3686ae3004324\", \"department\": \"Visual Effects\", \"gender\": 0, \"id\": 1401789, \"job\": \"Visual Effects Producer\", \"name\": \"Joyce Cox\"}, {\"credit_id\": \"5495994b92514132ed002951\", \"department\": \"Visual Effects\", \"gender\": 0, \"id\": 1401790, \"job\": \"Visual Effects Producer\", \"name\": \"Jenny Foster\"}, {\"credit_id\": \"549599cbc3a3686ae1004613\", \"department\": \"Crew\", \"gender\": 0, \"id\": 1401791, \"job\": \"Visual Effects Editor\", \"name\": \"Christopher Marino\"}, {\"credit_id\": \"549599f2c3a3686ae100461e\", \"department\": \"Crew\", \"gender\": 0, \"id\": 1401792, \"job\": \"Visual Effects Editor\", \"name\": \"Jim Milton\"}, {\"credit_id\": \"54959a51c3a3686af3003eb5\", \"department\": \"Visual Effects\", \"gender\": 0, \"id\": 1401793, \"job\": \"Visual Effects Producer\", \"name\": \"Cyndi Ochs\"}, {\"credit_id\": \"54959a7cc3a36811530026f4\", \"department\": \"Crew\", \"gender\": 0, \"id\": 1401794, \"job\": \"Visual Effects Editor\", \"name\": \"Lucas Putnam\"}, {\"credit_id\": \"54959b91c3a3680ff5002cb4\", \"department\": \"Visual Effects\", \"gender\": 0, \"id\": 1401795, \"job\": \"Visual Effects Supervisor\", \"name\": \"Anthony \\'Max\\' Ivins\"}, {\"credit_id\": \"54959bb69251412c4e002a5f\", \"department\": \"Visual Effects\", \"gender\": 0, \"id\": 1401796, \"job\": \"Visual Effects Supervisor\", \"name\": \"John Knoll\"}, {\"credit_id\": \"54959cbbc3a3686ae3004391\", \"department\": \"Visual Effects\", \"gender\": 2, \"id\": 1401799, \"job\": \"Visual Effects Supervisor\", \"name\": \"Eric Saindon\"}, {\"credit_id\": \"54959d06c3a3686ae90043f6\", \"department\": \"Visual Effects\", \"gender\": 0, \"id\": 1401800, \"job\": \"Visual Effects Supervisor\", \"name\": \"Wayne Stables\"}, {\"credit_id\": \"54959d259251416e1e003f11\", \"department\": \"Visual Effects\", \"gender\": 0, \"id\": 1401801, \"job\": \"Visual Effects Supervisor\", \"name\": \"David Stinnett\"}, {\"credit_id\": \"54959db49251413af7002975\", \"department\": \"Visual Effects\", \"gender\": 0, \"id\": 1401803, \"job\": \"Visual Effects Supervisor\", \"name\": \"Guy Williams\"}, {\"credit_id\": \"54959de4c3a3681153002750\", \"department\": \"Crew\", \"gender\": 0, \"id\": 1401804, \"job\": \"Stunt Coordinator\", \"name\": \"Stuart Thorp\"}, {\"credit_id\": \"54959ef2c3a3680fc60027f2\", \"department\": \"Lighting\", \"gender\": 0, \"id\": 1401805, \"job\": \"Best Boy Electric\", \"name\": \"Giles Coburn\"}, {\"credit_id\": \"54959f07c3a3680fc60027f9\", \"department\": \"Camera\", \"gender\": 2, \"id\": 1401806, \"job\": \"Still Photographer\", \"name\": \"Mark Fellman\"}, {\"credit_id\": \"54959f47c3a3681153002774\", \"department\": \"Lighting\", \"gender\": 0, \"id\": 1401807, \"job\": \"Lighting Technician\", \"name\": \"Scott Sprague\"}, {\"credit_id\": \"54959f8cc3a36831b8001df2\", \"department\": \"Visual Effects\", \"gender\": 0, \"id\": 1401808, \"job\": \"Animation Director\", \"name\": \"Jeremy Hollobon\"}, {\"credit_id\": \"54959fa0c3a36831b8001dfb\", \"department\": \"Visual Effects\", \"gender\": 0, \"id\": 1401809, \"job\": \"Animation Director\", \"name\": \"Orlando Meunier\"}, {\"credit_id\": \"54959fb6c3a3686af3003f54\", \"department\": \"Visual Effects\", \"gender\": 0, \"id\": 1401810, \"job\": \"Animation Director\", \"name\": \"Taisuke Tanimura\"}, {\"credit_id\": \"54959fd2c3a36831b8001e02\", \"department\": \"Costume & Make-Up\", \"gender\": 0, \"id\": 1401812, \"job\": \"Set Costumer\", \"name\": \"Lilia Mishel Acevedo\"}, {\"credit_id\": \"54959ff9c3a3686ae300440c\", \"department\": \"Costume & Make-Up\", \"gender\": 0, \"id\": 1401814, \"job\": \"Set Costumer\", \"name\": \"Alejandro M. Hernandez\"}, {\"credit_id\": \"5495a0ddc3a3686ae10046fe\", \"department\": \"Editing\", \"gender\": 0, \"id\": 1401815, \"job\": \"Digital Intermediate\", \"name\": \"Marvin Hall\"}, {\"credit_id\": \"5495a1f7c3a3686ae3004443\", \"department\": \"Production\", \"gender\": 0, \"id\": 1401816, \"job\": \"Publicist\", \"name\": \"Judy Alley\"}, {\"credit_id\": \"5592b29fc3a36869d100002f\", \"department\": \"Crew\", \"gender\": 0, \"id\": 1418381, \"job\": \"CG Supervisor\", \"name\": \"Mike Perry\"}, {\"credit_id\": \"5592b23a9251415df8001081\", \"department\": \"Crew\", \"gender\": 0, \"id\": 1426854, \"job\": \"CG Supervisor\", \"name\": \"Andrew Morley\"}, {\"credit_id\": \"55491e1192514104c40002d8\", \"department\": \"Art\", \"gender\": 0, \"id\": 1438901, \"job\": \"Conceptual Design\", \"name\": \"Seth Engstrom\"}, {\"credit_id\": \"5525d5809251417276002b06\", \"department\": \"Crew\", \"gender\": 0, \"id\": 1447362, \"job\": \"Visual Effects Art Director\", \"name\": \"Eric Oliver\"}, {\"credit_id\": \"554427ca925141586500312a\", \"department\": \"Visual Effects\", \"gender\": 0, \"id\": 1447503, \"job\": \"Modeling\", \"name\": \"Matsune Suzuki\"}, {\"credit_id\": \"551906889251415aab001c88\", \"department\": \"Art\", \"gender\": 0, \"id\": 1447524, \"job\": \"Art Department Manager\", \"name\": \"Paul Tobin\"}, {\"credit_id\": \"5592af8492514152cc0010de\", \"department\": \"Costume & Make-Up\", \"gender\": 0, \"id\": 1452643, \"job\": \"Hairstylist\", \"name\": \"Roxane Griffin\"}, {\"credit_id\": \"553d3c109251415852001318\", \"department\": \"Lighting\", \"gender\": 0, \"id\": 1453938, \"job\": \"Lighting Artist\", \"name\": \"Arun Ram-Mohan\"}, {\"credit_id\": \"5592af4692514152d5001355\", \"department\": \"Costume & Make-Up\", \"gender\": 0, \"id\": 1457305, \"job\": \"Makeup Artist\", \"name\": \"Georgia Lockhart-Adams\"}, {\"credit_id\": \"5592b2eac3a36877470012a5\", \"department\": \"Crew\", \"gender\": 0, \"id\": 1466035, \"job\": \"CG Supervisor\", \"name\": \"Thrain Shadbolt\"}, {\"credit_id\": \"5592b032c3a36877450015f1\", \"department\": \"Crew\", \"gender\": 0, \"id\": 1483220, \"job\": \"CG Supervisor\", \"name\": \"Brad Alexander\"}, {\"credit_id\": \"5592b05592514152d80012f6\", \"department\": \"Crew\", \"gender\": 0, \"id\": 1483221, \"job\": \"CG Supervisor\", \"name\": \"Shadi Almassizadeh\"}, {\"credit_id\": \"5592b090c3a36877570010b5\", \"department\": \"Crew\", \"gender\": 0, \"id\": 1483222, \"job\": \"CG Supervisor\", \"name\": \"Simon Clutterbuck\"}, {\"credit_id\": \"5592b0dbc3a368774b00112c\", \"department\": \"Crew\", \"gender\": 0, \"id\": 1483223, \"job\": \"CG Supervisor\", \"name\": \"Graeme Demmocks\"}, {\"credit_id\": \"5592b0fe92514152db0010c1\", \"department\": \"Crew\", \"gender\": 0, \"id\": 1483224, \"job\": \"CG Supervisor\", \"name\": \"Adrian Fernandes\"}, {\"credit_id\": \"5592b11f9251415df8001059\", \"department\": \"Crew\", \"gender\": 0, \"id\": 1483225, \"job\": \"CG Supervisor\", \"name\": \"Mitch Gates\"}, {\"credit_id\": \"5592b15dc3a3687745001645\", \"department\": \"Crew\", \"gender\": 0, \"id\": 1483226, \"job\": \"CG Supervisor\", \"name\": \"Jerry Kung\"}, {\"credit_id\": \"5592b18e925141645a0004ae\", \"department\": \"Crew\", \"gender\": 0, \"id\": 1483227, \"job\": \"CG Supervisor\", \"name\": \"Andy Lomas\"}, {\"credit_id\": \"5592b1bfc3a368775d0010e7\", \"department\": \"Crew\", \"gender\": 0, \"id\": 1483228, \"job\": \"CG Supervisor\", \"name\": \"Sebastian Marino\"}, {\"credit_id\": \"5592b2049251415df8001078\", \"department\": \"Crew\", \"gender\": 0, \"id\": 1483229, \"job\": \"CG Supervisor\", \"name\": \"Matthias Menz\"}, {\"credit_id\": \"5592b27b92514152d800136a\", \"department\": \"Crew\", \"gender\": 0, \"id\": 1483230, \"job\": \"CG Supervisor\", \"name\": \"Sergei Nevshupov\"}, {\"credit_id\": \"5592b2c3c3a36869e800003c\", \"department\": \"Crew\", \"gender\": 0, \"id\": 1483231, \"job\": \"CG Supervisor\", \"name\": \"Philippe Rebours\"}, {\"credit_id\": \"5592b317c3a36877470012af\", \"department\": \"Crew\", \"gender\": 0, \"id\": 1483232, \"job\": \"CG Supervisor\", \"name\": \"Michael Takarangi\"}, {\"credit_id\": \"5592b345c3a36877470012bb\", \"department\": \"Crew\", \"gender\": 0, \"id\": 1483233, \"job\": \"CG Supervisor\", \"name\": \"David Weitzberg\"}, {\"credit_id\": \"5592b37cc3a368775100113b\", \"department\": \"Crew\", \"gender\": 0, \"id\": 1483234, \"job\": \"CG Supervisor\", \"name\": \"Ben White\"}, {\"credit_id\": \"573c8e2f9251413f5d000094\", \"department\": \"Crew\", \"gender\": 1, \"id\": 1621932, \"job\": \"Stunts\", \"name\": \"Min Windle\"}]'"
      ]
     },
     "execution_count": 34,
     "metadata": {},
     "output_type": "execute_result"
    }
   ],
   "source": [
    "movies.iloc[0].crew"
   ]
  },
  {
   "cell_type": "code",
   "execution_count": 35,
   "id": "62a991c4-f7af-4426-9691-382355fe2b2b",
   "metadata": {},
   "outputs": [],
   "source": [
    "def convert_crew(obj):\n",
    "    L=[]\n",
    "    for i in ast.literal_eval(obj):\n",
    "        if i['job']==\"Director\":\n",
    "           L.append(i[\"name\"])\n",
    "    return L\n"
   ]
  },
  {
   "cell_type": "code",
   "execution_count": 36,
   "id": "e19a1c19-a3d0-4e33-bec6-918968a5ff7c",
   "metadata": {},
   "outputs": [],
   "source": [
    "movies.crew = movies.crew.apply(convert_crew)"
   ]
  },
  {
   "cell_type": "code",
   "execution_count": 37,
   "id": "9f4c9333-9fa6-44e3-a462-4598c1b85bb5",
   "metadata": {},
   "outputs": [
    {
     "data": {
      "text/plain": [
       "['James Cameron']"
      ]
     },
     "execution_count": 37,
     "metadata": {},
     "output_type": "execute_result"
    }
   ],
   "source": [
    "movies.iloc[0].crew"
   ]
  },
  {
   "cell_type": "code",
   "execution_count": 38,
   "id": "bf3b8b75-010d-4e68-9af3-c17963c29f48",
   "metadata": {},
   "outputs": [
    {
     "data": {
      "text/plain": [
       "'[{\"cast_id\": 242, \"character\": \"Jake Sully\", \"credit_id\": \"5602a8a7c3a3685532001c9a\", \"gender\": 2, \"id\": 65731, \"name\": \"Sam Worthington\", \"order\": 0}, {\"cast_id\": 3, \"character\": \"Neytiri\", \"credit_id\": \"52fe48009251416c750ac9cb\", \"gender\": 1, \"id\": 8691, \"name\": \"Zoe Saldana\", \"order\": 1}, {\"cast_id\": 25, \"character\": \"Dr. Grace Augustine\", \"credit_id\": \"52fe48009251416c750aca39\", \"gender\": 1, \"id\": 10205, \"name\": \"Sigourney Weaver\", \"order\": 2}, {\"cast_id\": 4, \"character\": \"Col. Quaritch\", \"credit_id\": \"52fe48009251416c750ac9cf\", \"gender\": 2, \"id\": 32747, \"name\": \"Stephen Lang\", \"order\": 3}, {\"cast_id\": 5, \"character\": \"Trudy Chacon\", \"credit_id\": \"52fe48009251416c750ac9d3\", \"gender\": 1, \"id\": 17647, \"name\": \"Michelle Rodriguez\", \"order\": 4}, {\"cast_id\": 8, \"character\": \"Selfridge\", \"credit_id\": \"52fe48009251416c750ac9e1\", \"gender\": 2, \"id\": 1771, \"name\": \"Giovanni Ribisi\", \"order\": 5}, {\"cast_id\": 7, \"character\": \"Norm Spellman\", \"credit_id\": \"52fe48009251416c750ac9dd\", \"gender\": 2, \"id\": 59231, \"name\": \"Joel David Moore\", \"order\": 6}, {\"cast_id\": 9, \"character\": \"Moat\", \"credit_id\": \"52fe48009251416c750ac9e5\", \"gender\": 1, \"id\": 30485, \"name\": \"CCH Pounder\", \"order\": 7}, {\"cast_id\": 11, \"character\": \"Eytukan\", \"credit_id\": \"52fe48009251416c750ac9ed\", \"gender\": 2, \"id\": 15853, \"name\": \"Wes Studi\", \"order\": 8}, {\"cast_id\": 10, \"character\": \"Tsu\\'Tey\", \"credit_id\": \"52fe48009251416c750ac9e9\", \"gender\": 2, \"id\": 10964, \"name\": \"Laz Alonso\", \"order\": 9}, {\"cast_id\": 12, \"character\": \"Dr. Max Patel\", \"credit_id\": \"52fe48009251416c750ac9f1\", \"gender\": 2, \"id\": 95697, \"name\": \"Dileep Rao\", \"order\": 10}, {\"cast_id\": 13, \"character\": \"Lyle Wainfleet\", \"credit_id\": \"52fe48009251416c750ac9f5\", \"gender\": 2, \"id\": 98215, \"name\": \"Matt Gerald\", \"order\": 11}, {\"cast_id\": 32, \"character\": \"Private Fike\", \"credit_id\": \"52fe48009251416c750aca5b\", \"gender\": 2, \"id\": 154153, \"name\": \"Sean Anthony Moran\", \"order\": 12}, {\"cast_id\": 33, \"character\": \"Cryo Vault Med Tech\", \"credit_id\": \"52fe48009251416c750aca5f\", \"gender\": 2, \"id\": 397312, \"name\": \"Jason Whyte\", \"order\": 13}, {\"cast_id\": 34, \"character\": \"Venture Star Crew Chief\", \"credit_id\": \"52fe48009251416c750aca63\", \"gender\": 2, \"id\": 42317, \"name\": \"Scott Lawrence\", \"order\": 14}, {\"cast_id\": 35, \"character\": \"Lock Up Trooper\", \"credit_id\": \"52fe48009251416c750aca67\", \"gender\": 2, \"id\": 986734, \"name\": \"Kelly Kilgour\", \"order\": 15}, {\"cast_id\": 36, \"character\": \"Shuttle Pilot\", \"credit_id\": \"52fe48009251416c750aca6b\", \"gender\": 0, \"id\": 1207227, \"name\": \"James Patrick Pitt\", \"order\": 16}, {\"cast_id\": 37, \"character\": \"Shuttle Co-Pilot\", \"credit_id\": \"52fe48009251416c750aca6f\", \"gender\": 0, \"id\": 1180936, \"name\": \"Sean Patrick Murphy\", \"order\": 17}, {\"cast_id\": 38, \"character\": \"Shuttle Crew Chief\", \"credit_id\": \"52fe48009251416c750aca73\", \"gender\": 2, \"id\": 1019578, \"name\": \"Peter Dillon\", \"order\": 18}, {\"cast_id\": 39, \"character\": \"Tractor Operator / Troupe\", \"credit_id\": \"52fe48009251416c750aca77\", \"gender\": 0, \"id\": 91443, \"name\": \"Kevin Dorman\", \"order\": 19}, {\"cast_id\": 40, \"character\": \"Dragon Gunship Pilot\", \"credit_id\": \"52fe48009251416c750aca7b\", \"gender\": 2, \"id\": 173391, \"name\": \"Kelson Henderson\", \"order\": 20}, {\"cast_id\": 41, \"character\": \"Dragon Gunship Gunner\", \"credit_id\": \"52fe48009251416c750aca7f\", \"gender\": 0, \"id\": 1207236, \"name\": \"David Van Horn\", \"order\": 21}, {\"cast_id\": 42, \"character\": \"Dragon Gunship Navigator\", \"credit_id\": \"52fe48009251416c750aca83\", \"gender\": 0, \"id\": 215913, \"name\": \"Jacob Tomuri\", \"order\": 22}, {\"cast_id\": 43, \"character\": \"Suit #1\", \"credit_id\": \"52fe48009251416c750aca87\", \"gender\": 0, \"id\": 143206, \"name\": \"Michael Blain-Rozgay\", \"order\": 23}, {\"cast_id\": 44, \"character\": \"Suit #2\", \"credit_id\": \"52fe48009251416c750aca8b\", \"gender\": 2, \"id\": 169676, \"name\": \"Jon Curry\", \"order\": 24}, {\"cast_id\": 46, \"character\": \"Ambient Room Tech\", \"credit_id\": \"52fe48009251416c750aca8f\", \"gender\": 0, \"id\": 1048610, \"name\": \"Luke Hawker\", \"order\": 25}, {\"cast_id\": 47, \"character\": \"Ambient Room Tech / Troupe\", \"credit_id\": \"52fe48009251416c750aca93\", \"gender\": 0, \"id\": 42288, \"name\": \"Woody Schultz\", \"order\": 26}, {\"cast_id\": 48, \"character\": \"Horse Clan Leader\", \"credit_id\": \"52fe48009251416c750aca97\", \"gender\": 2, \"id\": 68278, \"name\": \"Peter Mensah\", \"order\": 27}, {\"cast_id\": 49, \"character\": \"Link Room Tech\", \"credit_id\": \"52fe48009251416c750aca9b\", \"gender\": 0, \"id\": 1207247, \"name\": \"Sonia Yee\", \"order\": 28}, {\"cast_id\": 50, \"character\": \"Basketball Avatar / Troupe\", \"credit_id\": \"52fe48009251416c750aca9f\", \"gender\": 1, \"id\": 1207248, \"name\": \"Jahnel Curfman\", \"order\": 29}, {\"cast_id\": 51, \"character\": \"Basketball Avatar\", \"credit_id\": \"52fe48009251416c750acaa3\", \"gender\": 0, \"id\": 89714, \"name\": \"Ilram Choi\", \"order\": 30}, {\"cast_id\": 52, \"character\": \"Na\\'vi Child\", \"credit_id\": \"52fe48009251416c750acaa7\", \"gender\": 0, \"id\": 1207249, \"name\": \"Kyla Warren\", \"order\": 31}, {\"cast_id\": 53, \"character\": \"Troupe\", \"credit_id\": \"52fe48009251416c750acaab\", \"gender\": 0, \"id\": 1207250, \"name\": \"Lisa Roumain\", \"order\": 32}, {\"cast_id\": 54, \"character\": \"Troupe\", \"credit_id\": \"52fe48009251416c750acaaf\", \"gender\": 1, \"id\": 83105, \"name\": \"Debra Wilson\", \"order\": 33}, {\"cast_id\": 57, \"character\": \"Troupe\", \"credit_id\": \"52fe48009251416c750acabb\", \"gender\": 0, \"id\": 1207253, \"name\": \"Chris Mala\", \"order\": 34}, {\"cast_id\": 55, \"character\": \"Troupe\", \"credit_id\": \"52fe48009251416c750acab3\", \"gender\": 0, \"id\": 1207251, \"name\": \"Taylor Kibby\", \"order\": 35}, {\"cast_id\": 56, \"character\": \"Troupe\", \"credit_id\": \"52fe48009251416c750acab7\", \"gender\": 0, \"id\": 1207252, \"name\": \"Jodie Landau\", \"order\": 36}, {\"cast_id\": 58, \"character\": \"Troupe\", \"credit_id\": \"52fe48009251416c750acabf\", \"gender\": 0, \"id\": 1207254, \"name\": \"Julie Lamm\", \"order\": 37}, {\"cast_id\": 59, \"character\": \"Troupe\", \"credit_id\": \"52fe48009251416c750acac3\", \"gender\": 0, \"id\": 1207257, \"name\": \"Cullen B. Madden\", \"order\": 38}, {\"cast_id\": 60, \"character\": \"Troupe\", \"credit_id\": \"52fe48009251416c750acac7\", \"gender\": 0, \"id\": 1207259, \"name\": \"Joseph Brady Madden\", \"order\": 39}, {\"cast_id\": 61, \"character\": \"Troupe\", \"credit_id\": \"52fe48009251416c750acacb\", \"gender\": 0, \"id\": 1207262, \"name\": \"Frankie Torres\", \"order\": 40}, {\"cast_id\": 62, \"character\": \"Troupe\", \"credit_id\": \"52fe48009251416c750acacf\", \"gender\": 1, \"id\": 1158600, \"name\": \"Austin Wilson\", \"order\": 41}, {\"cast_id\": 63, \"character\": \"Troupe\", \"credit_id\": \"52fe48019251416c750acad3\", \"gender\": 1, \"id\": 983705, \"name\": \"Sara Wilson\", \"order\": 42}, {\"cast_id\": 64, \"character\": \"Troupe\", \"credit_id\": \"52fe48019251416c750acad7\", \"gender\": 0, \"id\": 1207263, \"name\": \"Tamica Washington-Miller\", \"order\": 43}, {\"cast_id\": 65, \"character\": \"Op Center Staff\", \"credit_id\": \"52fe48019251416c750acadb\", \"gender\": 1, \"id\": 1145098, \"name\": \"Lucy Briant\", \"order\": 44}, {\"cast_id\": 66, \"character\": \"Op Center Staff\", \"credit_id\": \"52fe48019251416c750acadf\", \"gender\": 2, \"id\": 33305, \"name\": \"Nathan Meister\", \"order\": 45}, {\"cast_id\": 67, \"character\": \"Op Center Staff\", \"credit_id\": \"52fe48019251416c750acae3\", \"gender\": 0, \"id\": 1207264, \"name\": \"Gerry Blair\", \"order\": 46}, {\"cast_id\": 68, \"character\": \"Op Center Staff\", \"credit_id\": \"52fe48019251416c750acae7\", \"gender\": 2, \"id\": 33311, \"name\": \"Matthew Chamberlain\", \"order\": 47}, {\"cast_id\": 69, \"character\": \"Op Center Staff\", \"credit_id\": \"52fe48019251416c750acaeb\", \"gender\": 0, \"id\": 1207265, \"name\": \"Paul Yates\", \"order\": 48}, {\"cast_id\": 70, \"character\": \"Op Center Duty Officer\", \"credit_id\": \"52fe48019251416c750acaef\", \"gender\": 0, \"id\": 1207266, \"name\": \"Wray Wilson\", \"order\": 49}, {\"cast_id\": 71, \"character\": \"Op Center Staff\", \"credit_id\": \"52fe48019251416c750acaf3\", \"gender\": 2, \"id\": 54492, \"name\": \"James Gaylyn\", \"order\": 50}, {\"cast_id\": 72, \"character\": \"Dancer\", \"credit_id\": \"52fe48019251416c750acaf7\", \"gender\": 0, \"id\": 1207267, \"name\": \"Melvin Leno Clark III\", \"order\": 51}, {\"cast_id\": 73, \"character\": \"Dancer\", \"credit_id\": \"52fe48019251416c750acafb\", \"gender\": 0, \"id\": 1207268, \"name\": \"Carvon Futrell\", \"order\": 52}, {\"cast_id\": 74, \"character\": \"Dancer\", \"credit_id\": \"52fe48019251416c750acaff\", \"gender\": 0, \"id\": 1207269, \"name\": \"Brandon Jelkes\", \"order\": 53}, {\"cast_id\": 75, \"character\": \"Dancer\", \"credit_id\": \"52fe48019251416c750acb03\", \"gender\": 0, \"id\": 1207270, \"name\": \"Micah Moch\", \"order\": 54}, {\"cast_id\": 76, \"character\": \"Dancer\", \"credit_id\": \"52fe48019251416c750acb07\", \"gender\": 0, \"id\": 1207271, \"name\": \"Hanniyah Muhammad\", \"order\": 55}, {\"cast_id\": 77, \"character\": \"Dancer\", \"credit_id\": \"52fe48019251416c750acb0b\", \"gender\": 0, \"id\": 1207272, \"name\": \"Christopher Nolen\", \"order\": 56}, {\"cast_id\": 78, \"character\": \"Dancer\", \"credit_id\": \"52fe48019251416c750acb0f\", \"gender\": 0, \"id\": 1207273, \"name\": \"Christa Oliver\", \"order\": 57}, {\"cast_id\": 79, \"character\": \"Dancer\", \"credit_id\": \"52fe48019251416c750acb13\", \"gender\": 0, \"id\": 1207274, \"name\": \"April Marie Thomas\", \"order\": 58}, {\"cast_id\": 80, \"character\": \"Dancer\", \"credit_id\": \"52fe48019251416c750acb17\", \"gender\": 0, \"id\": 1207275, \"name\": \"Bravita A. Threatt\", \"order\": 59}, {\"cast_id\": 81, \"character\": \"Mining Chief (uncredited)\", \"credit_id\": \"52fe48019251416c750acb1b\", \"gender\": 0, \"id\": 1207276, \"name\": \"Colin Bleasdale\", \"order\": 60}, {\"cast_id\": 82, \"character\": \"Veteran Miner (uncredited)\", \"credit_id\": \"52fe48019251416c750acb1f\", \"gender\": 0, \"id\": 107969, \"name\": \"Mike Bodnar\", \"order\": 61}, {\"cast_id\": 83, \"character\": \"Richard (uncredited)\", \"credit_id\": \"52fe48019251416c750acb23\", \"gender\": 0, \"id\": 1207278, \"name\": \"Matt Clayton\", \"order\": 62}, {\"cast_id\": 84, \"character\": \"Nav\\'i (uncredited)\", \"credit_id\": \"52fe48019251416c750acb27\", \"gender\": 1, \"id\": 147898, \"name\": \"Nicole Dionne\", \"order\": 63}, {\"cast_id\": 85, \"character\": \"Trooper (uncredited)\", \"credit_id\": \"52fe48019251416c750acb2b\", \"gender\": 0, \"id\": 1207280, \"name\": \"Jamie Harrison\", \"order\": 64}, {\"cast_id\": 86, \"character\": \"Trooper (uncredited)\", \"credit_id\": \"52fe48019251416c750acb2f\", \"gender\": 0, \"id\": 1207281, \"name\": \"Allan Henry\", \"order\": 65}, {\"cast_id\": 87, \"character\": \"Ground Technician (uncredited)\", \"credit_id\": \"52fe48019251416c750acb33\", \"gender\": 2, \"id\": 1207282, \"name\": \"Anthony Ingruber\", \"order\": 66}, {\"cast_id\": 88, \"character\": \"Flight Crew Mechanic (uncredited)\", \"credit_id\": \"52fe48019251416c750acb37\", \"gender\": 0, \"id\": 1207283, \"name\": \"Ashley Jeffery\", \"order\": 67}, {\"cast_id\": 14, \"character\": \"Samson Pilot\", \"credit_id\": \"52fe48009251416c750ac9f9\", \"gender\": 0, \"id\": 98216, \"name\": \"Dean Knowsley\", \"order\": 68}, {\"cast_id\": 89, \"character\": \"Trooper (uncredited)\", \"credit_id\": \"52fe48019251416c750acb3b\", \"gender\": 0, \"id\": 1201399, \"name\": \"Joseph Mika-Hunt\", \"order\": 69}, {\"cast_id\": 90, \"character\": \"Banshee (uncredited)\", \"credit_id\": \"52fe48019251416c750acb3f\", \"gender\": 0, \"id\": 236696, \"name\": \"Terry Notary\", \"order\": 70}, {\"cast_id\": 91, \"character\": \"Soldier (uncredited)\", \"credit_id\": \"52fe48019251416c750acb43\", \"gender\": 0, \"id\": 1207287, \"name\": \"Kai Pantano\", \"order\": 71}, {\"cast_id\": 92, \"character\": \"Blast Technician (uncredited)\", \"credit_id\": \"52fe48019251416c750acb47\", \"gender\": 0, \"id\": 1207288, \"name\": \"Logan Pithyou\", \"order\": 72}, {\"cast_id\": 93, \"character\": \"Vindum Raah (uncredited)\", \"credit_id\": \"52fe48019251416c750acb4b\", \"gender\": 0, \"id\": 1207289, \"name\": \"Stuart Pollock\", \"order\": 73}, {\"cast_id\": 94, \"character\": \"Hero (uncredited)\", \"credit_id\": \"52fe48019251416c750acb4f\", \"gender\": 0, \"id\": 584868, \"name\": \"Raja\", \"order\": 74}, {\"cast_id\": 95, \"character\": \"Ops Centreworker (uncredited)\", \"credit_id\": \"52fe48019251416c750acb53\", \"gender\": 0, \"id\": 1207290, \"name\": \"Gareth Ruck\", \"order\": 75}, {\"cast_id\": 96, \"character\": \"Engineer (uncredited)\", \"credit_id\": \"52fe48019251416c750acb57\", \"gender\": 0, \"id\": 1062463, \"name\": \"Rhian Sheehan\", \"order\": 76}, {\"cast_id\": 97, \"character\": \"Col. Quaritch\\'s Mech Suit (uncredited)\", \"credit_id\": \"52fe48019251416c750acb5b\", \"gender\": 0, \"id\": 60656, \"name\": \"T. J. Storm\", \"order\": 77}, {\"cast_id\": 98, \"character\": \"Female Marine (uncredited)\", \"credit_id\": \"52fe48019251416c750acb5f\", \"gender\": 0, \"id\": 1207291, \"name\": \"Jodie Taylor\", \"order\": 78}, {\"cast_id\": 99, \"character\": \"Ikran Clan Leader (uncredited)\", \"credit_id\": \"52fe48019251416c750acb63\", \"gender\": 1, \"id\": 1186027, \"name\": \"Alicia Vela-Bailey\", \"order\": 79}, {\"cast_id\": 100, \"character\": \"Geologist (uncredited)\", \"credit_id\": \"52fe48019251416c750acb67\", \"gender\": 0, \"id\": 1207292, \"name\": \"Richard Whiteside\", \"order\": 80}, {\"cast_id\": 101, \"character\": \"Na\\'vi (uncredited)\", \"credit_id\": \"52fe48019251416c750acb6b\", \"gender\": 0, \"id\": 103259, \"name\": \"Nikie Zambo\", \"order\": 81}, {\"cast_id\": 102, \"character\": \"Ambient Room Tech / Troupe\", \"credit_id\": \"52fe48019251416c750acb6f\", \"gender\": 1, \"id\": 42286, \"name\": \"Julene Renee\", \"order\": 82}]'"
      ]
     },
     "execution_count": 38,
     "metadata": {},
     "output_type": "execute_result"
    }
   ],
   "source": [
    "movies.iloc[0].cast"
   ]
  },
  {
   "cell_type": "code",
   "execution_count": 39,
   "id": "854f8e91-3c3d-430d-9fb9-0f3dd3d4b13a",
   "metadata": {},
   "outputs": [],
   "source": [
    "def convert_cast(obj):\n",
    "    L=[]\n",
    "    counter=0\n",
    "    for i in ast.literal_eval(obj):\n",
    "        if counter !=3:\n",
    "            L.append(i[\"name\"])\n",
    "            counter+=1\n",
    "        else:\n",
    "            break\n",
    "    return L\n"
   ]
  },
  {
   "cell_type": "code",
   "execution_count": 40,
   "id": "d748e1e4-284a-4ae3-8caa-1cd288e5419e",
   "metadata": {},
   "outputs": [],
   "source": [
    "movies.cast  = movies.cast.apply(convert_cast)"
   ]
  },
  {
   "cell_type": "code",
   "execution_count": 41,
   "id": "271ffe16-3c05-42da-b56c-5c702c2b956e",
   "metadata": {},
   "outputs": [
    {
     "data": {
      "text/plain": [
       "['Sam Worthington', 'Zoe Saldana', 'Sigourney Weaver']"
      ]
     },
     "execution_count": 41,
     "metadata": {},
     "output_type": "execute_result"
    }
   ],
   "source": [
    "movies.iloc[0].cast"
   ]
  },
  {
   "cell_type": "code",
   "execution_count": 42,
   "id": "b361e1d5-5d7e-4dcf-9b52-f464db4d0386",
   "metadata": {},
   "outputs": [
    {
     "data": {
      "text/html": [
       "<div>\n",
       "<style scoped>\n",
       "    .dataframe tbody tr th:only-of-type {\n",
       "        vertical-align: middle;\n",
       "    }\n",
       "\n",
       "    .dataframe tbody tr th {\n",
       "        vertical-align: top;\n",
       "    }\n",
       "\n",
       "    .dataframe thead th {\n",
       "        text-align: right;\n",
       "    }\n",
       "</style>\n",
       "<table border=\"1\" class=\"dataframe\">\n",
       "  <thead>\n",
       "    <tr style=\"text-align: right;\">\n",
       "      <th></th>\n",
       "      <th>genres</th>\n",
       "      <th>keywords</th>\n",
       "      <th>crew</th>\n",
       "      <th>movie_id</th>\n",
       "      <th>cast</th>\n",
       "      <th>overview</th>\n",
       "      <th>title</th>\n",
       "    </tr>\n",
       "  </thead>\n",
       "  <tbody>\n",
       "    <tr>\n",
       "      <th>0</th>\n",
       "      <td>[Action, Adventure, Fantasy, Science Fiction]</td>\n",
       "      <td>[culture clash, future, space war, space colon...</td>\n",
       "      <td>[James Cameron]</td>\n",
       "      <td>19995</td>\n",
       "      <td>[Sam Worthington, Zoe Saldana, Sigourney Weaver]</td>\n",
       "      <td>In the 22nd century, a paraplegic Marine is di...</td>\n",
       "      <td>Avatar</td>\n",
       "    </tr>\n",
       "    <tr>\n",
       "      <th>1</th>\n",
       "      <td>[Adventure, Fantasy, Action]</td>\n",
       "      <td>[ocean, drug abuse, exotic island, east india ...</td>\n",
       "      <td>[Gore Verbinski]</td>\n",
       "      <td>285</td>\n",
       "      <td>[Johnny Depp, Orlando Bloom, Keira Knightley]</td>\n",
       "      <td>Captain Barbossa, long believed to be dead, ha...</td>\n",
       "      <td>Pirates of the Caribbean: At World's End</td>\n",
       "    </tr>\n",
       "    <tr>\n",
       "      <th>2</th>\n",
       "      <td>[Action, Adventure, Crime]</td>\n",
       "      <td>[spy, based on novel, secret agent, sequel, mi...</td>\n",
       "      <td>[Sam Mendes]</td>\n",
       "      <td>206647</td>\n",
       "      <td>[Daniel Craig, Christoph Waltz, Léa Seydoux]</td>\n",
       "      <td>A cryptic message from Bond’s past sends him o...</td>\n",
       "      <td>Spectre</td>\n",
       "    </tr>\n",
       "  </tbody>\n",
       "</table>\n",
       "</div>"
      ],
      "text/plain": [
       "                                          genres  \\\n",
       "0  [Action, Adventure, Fantasy, Science Fiction]   \n",
       "1                   [Adventure, Fantasy, Action]   \n",
       "2                     [Action, Adventure, Crime]   \n",
       "\n",
       "                                            keywords              crew  \\\n",
       "0  [culture clash, future, space war, space colon...   [James Cameron]   \n",
       "1  [ocean, drug abuse, exotic island, east india ...  [Gore Verbinski]   \n",
       "2  [spy, based on novel, secret agent, sequel, mi...      [Sam Mendes]   \n",
       "\n",
       "   movie_id                                              cast  \\\n",
       "0     19995  [Sam Worthington, Zoe Saldana, Sigourney Weaver]   \n",
       "1       285     [Johnny Depp, Orlando Bloom, Keira Knightley]   \n",
       "2    206647      [Daniel Craig, Christoph Waltz, Léa Seydoux]   \n",
       "\n",
       "                                            overview  \\\n",
       "0  In the 22nd century, a paraplegic Marine is di...   \n",
       "1  Captain Barbossa, long believed to be dead, ha...   \n",
       "2  A cryptic message from Bond’s past sends him o...   \n",
       "\n",
       "                                      title  \n",
       "0                                    Avatar  \n",
       "1  Pirates of the Caribbean: At World's End  \n",
       "2                                   Spectre  "
      ]
     },
     "execution_count": 42,
     "metadata": {},
     "output_type": "execute_result"
    }
   ],
   "source": [
    "movies.head(3)"
   ]
  },
  {
   "cell_type": "markdown",
   "id": "e0b00503-3b2a-4bb8-bad3-12283009c7e9",
   "metadata": {},
   "source": [
    "# Tokenizing Sentences into Word Lists\n",
    "\n",
    "\n",
    "\n",
    "\n",
    "\n",
    "\n"
   ]
  },
  {
   "cell_type": "code",
   "execution_count": 44,
   "id": "8cbc448a-64a9-40a6-a211-1bf4d803451e",
   "metadata": {},
   "outputs": [
    {
     "data": {
      "text/plain": [
       "'In the 22nd century, a paraplegic Marine is dispatched to the moon Pandora on a unique mission, but becomes torn between following orders and protecting an alien civilization.'"
      ]
     },
     "execution_count": 44,
     "metadata": {},
     "output_type": "execute_result"
    }
   ],
   "source": [
    "movies.overview[0]"
   ]
  },
  {
   "cell_type": "code",
   "execution_count": 45,
   "id": "5e7b82e2-b3af-41e6-ba2c-847243c43eb8",
   "metadata": {},
   "outputs": [],
   "source": [
    "movies.overview=movies.overview.apply(lambda x:x.split())"
   ]
  },
  {
   "cell_type": "code",
   "execution_count": 46,
   "id": "cffd3a74-1f00-4c43-a80f-e858a675d14d",
   "metadata": {},
   "outputs": [
    {
     "data": {
      "text/plain": [
       "['In',\n",
       " 'the',\n",
       " '22nd',\n",
       " 'century,',\n",
       " 'a',\n",
       " 'paraplegic',\n",
       " 'Marine',\n",
       " 'is',\n",
       " 'dispatched',\n",
       " 'to',\n",
       " 'the',\n",
       " 'moon',\n",
       " 'Pandora',\n",
       " 'on',\n",
       " 'a',\n",
       " 'unique',\n",
       " 'mission,',\n",
       " 'but',\n",
       " 'becomes',\n",
       " 'torn',\n",
       " 'between',\n",
       " 'following',\n",
       " 'orders',\n",
       " 'and',\n",
       " 'protecting',\n",
       " 'an',\n",
       " 'alien',\n",
       " 'civilization.']"
      ]
     },
     "execution_count": 46,
     "metadata": {},
     "output_type": "execute_result"
    }
   ],
   "source": [
    "movies.overview[0]"
   ]
  },
  {
   "cell_type": "markdown",
   "id": "d475a375-a662-4056-a471-a31a71c985b5",
   "metadata": {},
   "source": [
    "# Removing Spcaes"
   ]
  },
  {
   "cell_type": "code",
   "execution_count": 48,
   "id": "ccb837e1-8b02-495a-b98a-d7827b3ad9bd",
   "metadata": {},
   "outputs": [],
   "source": [
    "movies.genres=movies.genres.apply(lambda x:[i.replace(\" \",\"\") for i in x])\n",
    "movies.keywords=movies.keywords.apply(lambda x:[i.replace(\" \",\"\") for i in x])\n",
    "movies.cast=movies.cast.apply(lambda x:[i.replace(\" \",\"\") for i in x])\n",
    "movies.crew=movies.crew.apply(lambda x:[i.replace(\" \",\"\") for i in x])"
   ]
  },
  {
   "cell_type": "code",
   "execution_count": 49,
   "id": "7af62ddd-a258-4c1a-aa24-58ddcdb4a0f8",
   "metadata": {},
   "outputs": [
    {
     "data": {
      "text/html": [
       "<div>\n",
       "<style scoped>\n",
       "    .dataframe tbody tr th:only-of-type {\n",
       "        vertical-align: middle;\n",
       "    }\n",
       "\n",
       "    .dataframe tbody tr th {\n",
       "        vertical-align: top;\n",
       "    }\n",
       "\n",
       "    .dataframe thead th {\n",
       "        text-align: right;\n",
       "    }\n",
       "</style>\n",
       "<table border=\"1\" class=\"dataframe\">\n",
       "  <thead>\n",
       "    <tr style=\"text-align: right;\">\n",
       "      <th></th>\n",
       "      <th>genres</th>\n",
       "      <th>keywords</th>\n",
       "      <th>crew</th>\n",
       "      <th>movie_id</th>\n",
       "      <th>cast</th>\n",
       "      <th>overview</th>\n",
       "      <th>title</th>\n",
       "    </tr>\n",
       "  </thead>\n",
       "  <tbody>\n",
       "    <tr>\n",
       "      <th>0</th>\n",
       "      <td>[Action, Adventure, Fantasy, ScienceFiction]</td>\n",
       "      <td>[cultureclash, future, spacewar, spacecolony, ...</td>\n",
       "      <td>[JamesCameron]</td>\n",
       "      <td>19995</td>\n",
       "      <td>[SamWorthington, ZoeSaldana, SigourneyWeaver]</td>\n",
       "      <td>[In, the, 22nd, century,, a, paraplegic, Marin...</td>\n",
       "      <td>Avatar</td>\n",
       "    </tr>\n",
       "    <tr>\n",
       "      <th>1</th>\n",
       "      <td>[Adventure, Fantasy, Action]</td>\n",
       "      <td>[ocean, drugabuse, exoticisland, eastindiatrad...</td>\n",
       "      <td>[GoreVerbinski]</td>\n",
       "      <td>285</td>\n",
       "      <td>[JohnnyDepp, OrlandoBloom, KeiraKnightley]</td>\n",
       "      <td>[Captain, Barbossa,, long, believed, to, be, d...</td>\n",
       "      <td>Pirates of the Caribbean: At World's End</td>\n",
       "    </tr>\n",
       "  </tbody>\n",
       "</table>\n",
       "</div>"
      ],
      "text/plain": [
       "                                         genres  \\\n",
       "0  [Action, Adventure, Fantasy, ScienceFiction]   \n",
       "1                  [Adventure, Fantasy, Action]   \n",
       "\n",
       "                                            keywords             crew  \\\n",
       "0  [cultureclash, future, spacewar, spacecolony, ...   [JamesCameron]   \n",
       "1  [ocean, drugabuse, exoticisland, eastindiatrad...  [GoreVerbinski]   \n",
       "\n",
       "   movie_id                                           cast  \\\n",
       "0     19995  [SamWorthington, ZoeSaldana, SigourneyWeaver]   \n",
       "1       285     [JohnnyDepp, OrlandoBloom, KeiraKnightley]   \n",
       "\n",
       "                                            overview  \\\n",
       "0  [In, the, 22nd, century,, a, paraplegic, Marin...   \n",
       "1  [Captain, Barbossa,, long, believed, to, be, d...   \n",
       "\n",
       "                                      title  \n",
       "0                                    Avatar  \n",
       "1  Pirates of the Caribbean: At World's End  "
      ]
     },
     "execution_count": 49,
     "metadata": {},
     "output_type": "execute_result"
    }
   ],
   "source": [
    "movies.head(2)"
   ]
  },
  {
   "cell_type": "markdown",
   "id": "4dabed3f-a464-4b2d-82cb-1258ef8fdfdc",
   "metadata": {},
   "source": [
    "# Merging Genre Keywords, Crew, Cast, and Overview into a Single \"Tag\" Column"
   ]
  },
  {
   "cell_type": "code",
   "execution_count": 51,
   "id": "c4c6b730-3e99-488e-a50a-c5af2d633049",
   "metadata": {},
   "outputs": [],
   "source": [
    "movies[\"tags\"] = movies[\"genres\"]+movies[\"keywords\"]+movies[\"cast\"]+movies[\"crew\"]+movies[\"overview\"]"
   ]
  },
  {
   "cell_type": "code",
   "execution_count": 52,
   "id": "381d1ee9-ece3-4d18-b887-90e3ea82efa4",
   "metadata": {},
   "outputs": [
    {
     "data": {
      "text/plain": [
       "['Action',\n",
       " 'Adventure',\n",
       " 'Fantasy',\n",
       " 'ScienceFiction',\n",
       " 'cultureclash',\n",
       " 'future',\n",
       " 'spacewar',\n",
       " 'spacecolony',\n",
       " 'society',\n",
       " 'spacetravel',\n",
       " 'futuristic',\n",
       " 'romance',\n",
       " 'space',\n",
       " 'alien',\n",
       " 'tribe',\n",
       " 'alienplanet',\n",
       " 'cgi',\n",
       " 'marine',\n",
       " 'soldier',\n",
       " 'battle',\n",
       " 'loveaffair',\n",
       " 'antiwar',\n",
       " 'powerrelations',\n",
       " 'mindandsoul',\n",
       " '3d',\n",
       " 'SamWorthington',\n",
       " 'ZoeSaldana',\n",
       " 'SigourneyWeaver',\n",
       " 'JamesCameron',\n",
       " 'In',\n",
       " 'the',\n",
       " '22nd',\n",
       " 'century,',\n",
       " 'a',\n",
       " 'paraplegic',\n",
       " 'Marine',\n",
       " 'is',\n",
       " 'dispatched',\n",
       " 'to',\n",
       " 'the',\n",
       " 'moon',\n",
       " 'Pandora',\n",
       " 'on',\n",
       " 'a',\n",
       " 'unique',\n",
       " 'mission,',\n",
       " 'but',\n",
       " 'becomes',\n",
       " 'torn',\n",
       " 'between',\n",
       " 'following',\n",
       " 'orders',\n",
       " 'and',\n",
       " 'protecting',\n",
       " 'an',\n",
       " 'alien',\n",
       " 'civilization.']"
      ]
     },
     "execution_count": 52,
     "metadata": {},
     "output_type": "execute_result"
    }
   ],
   "source": [
    "movies.tags[0]"
   ]
  },
  {
   "cell_type": "code",
   "execution_count": 53,
   "id": "c03982e6-0aa4-478e-a765-c4e01ab9be5c",
   "metadata": {},
   "outputs": [
    {
     "data": {
      "text/plain": [
       "Index(['genres', 'keywords', 'crew', 'movie_id', 'cast', 'overview', 'title',\n",
       "       'tags'],\n",
       "      dtype='object')"
      ]
     },
     "execution_count": 53,
     "metadata": {},
     "output_type": "execute_result"
    }
   ],
   "source": [
    "movies.columns"
   ]
  },
  {
   "cell_type": "markdown",
   "id": "7129c594-3532-487c-acf9-68f8da974e2f",
   "metadata": {},
   "source": [
    "# Dropping extra Columns"
   ]
  },
  {
   "cell_type": "code",
   "execution_count": 55,
   "id": "886b1d25-53d5-47c6-9bac-3cb887fbcbff",
   "metadata": {},
   "outputs": [],
   "source": [
    "df_movie =movies[[\"movie_id\",\"title\",\"tags\"]]"
   ]
  },
  {
   "cell_type": "code",
   "execution_count": 56,
   "id": "5b2b0e8d-75a4-44c3-8aa7-166c95c46b8a",
   "metadata": {},
   "outputs": [
    {
     "data": {
      "text/html": [
       "<div>\n",
       "<style scoped>\n",
       "    .dataframe tbody tr th:only-of-type {\n",
       "        vertical-align: middle;\n",
       "    }\n",
       "\n",
       "    .dataframe tbody tr th {\n",
       "        vertical-align: top;\n",
       "    }\n",
       "\n",
       "    .dataframe thead th {\n",
       "        text-align: right;\n",
       "    }\n",
       "</style>\n",
       "<table border=\"1\" class=\"dataframe\">\n",
       "  <thead>\n",
       "    <tr style=\"text-align: right;\">\n",
       "      <th></th>\n",
       "      <th>movie_id</th>\n",
       "      <th>title</th>\n",
       "      <th>tags</th>\n",
       "    </tr>\n",
       "  </thead>\n",
       "  <tbody>\n",
       "    <tr>\n",
       "      <th>0</th>\n",
       "      <td>19995</td>\n",
       "      <td>Avatar</td>\n",
       "      <td>[Action, Adventure, Fantasy, ScienceFiction, c...</td>\n",
       "    </tr>\n",
       "    <tr>\n",
       "      <th>1</th>\n",
       "      <td>285</td>\n",
       "      <td>Pirates of the Caribbean: At World's End</td>\n",
       "      <td>[Adventure, Fantasy, Action, ocean, drugabuse,...</td>\n",
       "    </tr>\n",
       "    <tr>\n",
       "      <th>2</th>\n",
       "      <td>206647</td>\n",
       "      <td>Spectre</td>\n",
       "      <td>[Action, Adventure, Crime, spy, basedonnovel, ...</td>\n",
       "    </tr>\n",
       "    <tr>\n",
       "      <th>3</th>\n",
       "      <td>49026</td>\n",
       "      <td>The Dark Knight Rises</td>\n",
       "      <td>[Action, Crime, Drama, Thriller, dccomics, cri...</td>\n",
       "    </tr>\n",
       "    <tr>\n",
       "      <th>4</th>\n",
       "      <td>49529</td>\n",
       "      <td>John Carter</td>\n",
       "      <td>[Action, Adventure, ScienceFiction, basedonnov...</td>\n",
       "    </tr>\n",
       "  </tbody>\n",
       "</table>\n",
       "</div>"
      ],
      "text/plain": [
       "   movie_id                                     title  \\\n",
       "0     19995                                    Avatar   \n",
       "1       285  Pirates of the Caribbean: At World's End   \n",
       "2    206647                                   Spectre   \n",
       "3     49026                     The Dark Knight Rises   \n",
       "4     49529                               John Carter   \n",
       "\n",
       "                                                tags  \n",
       "0  [Action, Adventure, Fantasy, ScienceFiction, c...  \n",
       "1  [Adventure, Fantasy, Action, ocean, drugabuse,...  \n",
       "2  [Action, Adventure, Crime, spy, basedonnovel, ...  \n",
       "3  [Action, Crime, Drama, Thriller, dccomics, cri...  \n",
       "4  [Action, Adventure, ScienceFiction, basedonnov...  "
      ]
     },
     "execution_count": 56,
     "metadata": {},
     "output_type": "execute_result"
    }
   ],
   "source": [
    "df_movie.head()"
   ]
  },
  {
   "cell_type": "markdown",
   "id": "b127cd99-8567-4336-993e-9896b8c9b5ac",
   "metadata": {},
   "source": [
    "# Converting Tag Word Lists into Sentences Using Join\n",
    "\n",
    "\n",
    "\n",
    "\n",
    "\n",
    "\n"
   ]
  },
  {
   "cell_type": "code",
   "execution_count": 58,
   "id": "1fb635f5-d129-418e-81c8-9a3c60934dcd",
   "metadata": {},
   "outputs": [
    {
     "data": {
      "text/plain": [
       "['Action',\n",
       " 'Adventure',\n",
       " 'Fantasy',\n",
       " 'ScienceFiction',\n",
       " 'cultureclash',\n",
       " 'future',\n",
       " 'spacewar',\n",
       " 'spacecolony',\n",
       " 'society',\n",
       " 'spacetravel',\n",
       " 'futuristic',\n",
       " 'romance',\n",
       " 'space',\n",
       " 'alien',\n",
       " 'tribe',\n",
       " 'alienplanet',\n",
       " 'cgi',\n",
       " 'marine',\n",
       " 'soldier',\n",
       " 'battle',\n",
       " 'loveaffair',\n",
       " 'antiwar',\n",
       " 'powerrelations',\n",
       " 'mindandsoul',\n",
       " '3d',\n",
       " 'SamWorthington',\n",
       " 'ZoeSaldana',\n",
       " 'SigourneyWeaver',\n",
       " 'JamesCameron',\n",
       " 'In',\n",
       " 'the',\n",
       " '22nd',\n",
       " 'century,',\n",
       " 'a',\n",
       " 'paraplegic',\n",
       " 'Marine',\n",
       " 'is',\n",
       " 'dispatched',\n",
       " 'to',\n",
       " 'the',\n",
       " 'moon',\n",
       " 'Pandora',\n",
       " 'on',\n",
       " 'a',\n",
       " 'unique',\n",
       " 'mission,',\n",
       " 'but',\n",
       " 'becomes',\n",
       " 'torn',\n",
       " 'between',\n",
       " 'following',\n",
       " 'orders',\n",
       " 'and',\n",
       " 'protecting',\n",
       " 'an',\n",
       " 'alien',\n",
       " 'civilization.']"
      ]
     },
     "execution_count": 58,
     "metadata": {},
     "output_type": "execute_result"
    }
   ],
   "source": [
    "df_movie[\"tags\"][0]"
   ]
  },
  {
   "cell_type": "code",
   "execution_count": 59,
   "id": "6be457a3-bd0a-4dec-a29f-f3690d9f565c",
   "metadata": {},
   "outputs": [
    {
     "name": "stderr",
     "output_type": "stream",
     "text": [
      "C:\\Users\\AHSAN\\AppData\\Local\\Temp\\ipykernel_5536\\1819161536.py:2: SettingWithCopyWarning: \n",
      "A value is trying to be set on a copy of a slice from a DataFrame.\n",
      "Try using .loc[row_indexer,col_indexer] = value instead\n",
      "\n",
      "See the caveats in the documentation: https://pandas.pydata.org/pandas-docs/stable/user_guide/indexing.html#returning-a-view-versus-a-copy\n",
      "  df_movie[\"tags\"]=df_movie[\"tags\"].apply(lambda x:\" \".join (x))\n"
     ]
    }
   ],
   "source": [
    "#something like John Carter in tags will be converted into JohnCarter\n",
    "df_movie[\"tags\"]=df_movie[\"tags\"].apply(lambda x:\" \".join (x))"
   ]
  },
  {
   "cell_type": "code",
   "execution_count": 60,
   "id": "5c80fd87-02ac-41dd-a088-26dab9770699",
   "metadata": {},
   "outputs": [
    {
     "data": {
      "text/plain": [
       "'Action Adventure Fantasy ScienceFiction cultureclash future spacewar spacecolony society spacetravel futuristic romance space alien tribe alienplanet cgi marine soldier battle loveaffair antiwar powerrelations mindandsoul 3d SamWorthington ZoeSaldana SigourneyWeaver JamesCameron In the 22nd century, a paraplegic Marine is dispatched to the moon Pandora on a unique mission, but becomes torn between following orders and protecting an alien civilization.'"
      ]
     },
     "execution_count": 60,
     "metadata": {},
     "output_type": "execute_result"
    }
   ],
   "source": [
    "df_movie[\"tags\"][0]"
   ]
  },
  {
   "cell_type": "code",
   "execution_count": 61,
   "id": "a4c8d04e-e869-4c05-a304-6b1e731fa88f",
   "metadata": {},
   "outputs": [
    {
     "data": {
      "text/html": [
       "<div>\n",
       "<style scoped>\n",
       "    .dataframe tbody tr th:only-of-type {\n",
       "        vertical-align: middle;\n",
       "    }\n",
       "\n",
       "    .dataframe tbody tr th {\n",
       "        vertical-align: top;\n",
       "    }\n",
       "\n",
       "    .dataframe thead th {\n",
       "        text-align: right;\n",
       "    }\n",
       "</style>\n",
       "<table border=\"1\" class=\"dataframe\">\n",
       "  <thead>\n",
       "    <tr style=\"text-align: right;\">\n",
       "      <th></th>\n",
       "      <th>movie_id</th>\n",
       "      <th>title</th>\n",
       "      <th>tags</th>\n",
       "    </tr>\n",
       "  </thead>\n",
       "  <tbody>\n",
       "    <tr>\n",
       "      <th>0</th>\n",
       "      <td>19995</td>\n",
       "      <td>Avatar</td>\n",
       "      <td>Action Adventure Fantasy ScienceFiction cultur...</td>\n",
       "    </tr>\n",
       "    <tr>\n",
       "      <th>1</th>\n",
       "      <td>285</td>\n",
       "      <td>Pirates of the Caribbean: At World's End</td>\n",
       "      <td>Adventure Fantasy Action ocean drugabuse exoti...</td>\n",
       "    </tr>\n",
       "    <tr>\n",
       "      <th>2</th>\n",
       "      <td>206647</td>\n",
       "      <td>Spectre</td>\n",
       "      <td>Action Adventure Crime spy basedonnovel secret...</td>\n",
       "    </tr>\n",
       "    <tr>\n",
       "      <th>3</th>\n",
       "      <td>49026</td>\n",
       "      <td>The Dark Knight Rises</td>\n",
       "      <td>Action Crime Drama Thriller dccomics crimefigh...</td>\n",
       "    </tr>\n",
       "    <tr>\n",
       "      <th>4</th>\n",
       "      <td>49529</td>\n",
       "      <td>John Carter</td>\n",
       "      <td>Action Adventure ScienceFiction basedonnovel m...</td>\n",
       "    </tr>\n",
       "    <tr>\n",
       "      <th>...</th>\n",
       "      <td>...</td>\n",
       "      <td>...</td>\n",
       "      <td>...</td>\n",
       "    </tr>\n",
       "    <tr>\n",
       "      <th>4804</th>\n",
       "      <td>9367</td>\n",
       "      <td>El Mariachi</td>\n",
       "      <td>Action Crime Thriller unitedstates–mexicobarri...</td>\n",
       "    </tr>\n",
       "    <tr>\n",
       "      <th>4805</th>\n",
       "      <td>72766</td>\n",
       "      <td>Newlyweds</td>\n",
       "      <td>Comedy Romance EdwardBurns KerryBishé MarshaDi...</td>\n",
       "    </tr>\n",
       "    <tr>\n",
       "      <th>4806</th>\n",
       "      <td>231617</td>\n",
       "      <td>Signed, Sealed, Delivered</td>\n",
       "      <td>Comedy Drama Romance TVMovie date loveatfirsts...</td>\n",
       "    </tr>\n",
       "    <tr>\n",
       "      <th>4807</th>\n",
       "      <td>126186</td>\n",
       "      <td>Shanghai Calling</td>\n",
       "      <td>DanielHenney ElizaCoupe BillPaxton DanielHsia ...</td>\n",
       "    </tr>\n",
       "    <tr>\n",
       "      <th>4808</th>\n",
       "      <td>25975</td>\n",
       "      <td>My Date with Drew</td>\n",
       "      <td>Documentary obsession camcorder crush dreamgir...</td>\n",
       "    </tr>\n",
       "  </tbody>\n",
       "</table>\n",
       "<p>4806 rows × 3 columns</p>\n",
       "</div>"
      ],
      "text/plain": [
       "      movie_id                                     title  \\\n",
       "0        19995                                    Avatar   \n",
       "1          285  Pirates of the Caribbean: At World's End   \n",
       "2       206647                                   Spectre   \n",
       "3        49026                     The Dark Knight Rises   \n",
       "4        49529                               John Carter   \n",
       "...        ...                                       ...   \n",
       "4804      9367                               El Mariachi   \n",
       "4805     72766                                 Newlyweds   \n",
       "4806    231617                 Signed, Sealed, Delivered   \n",
       "4807    126186                          Shanghai Calling   \n",
       "4808     25975                         My Date with Drew   \n",
       "\n",
       "                                                   tags  \n",
       "0     Action Adventure Fantasy ScienceFiction cultur...  \n",
       "1     Adventure Fantasy Action ocean drugabuse exoti...  \n",
       "2     Action Adventure Crime spy basedonnovel secret...  \n",
       "3     Action Crime Drama Thriller dccomics crimefigh...  \n",
       "4     Action Adventure ScienceFiction basedonnovel m...  \n",
       "...                                                 ...  \n",
       "4804  Action Crime Thriller unitedstates–mexicobarri...  \n",
       "4805  Comedy Romance EdwardBurns KerryBishé MarshaDi...  \n",
       "4806  Comedy Drama Romance TVMovie date loveatfirsts...  \n",
       "4807  DanielHenney ElizaCoupe BillPaxton DanielHsia ...  \n",
       "4808  Documentary obsession camcorder crush dreamgir...  \n",
       "\n",
       "[4806 rows x 3 columns]"
      ]
     },
     "execution_count": 61,
     "metadata": {},
     "output_type": "execute_result"
    }
   ],
   "source": [
    "df_movie"
   ]
  },
  {
   "cell_type": "code",
   "execution_count": 62,
   "id": "87b11278-4155-443f-8fdd-35cb5e8af360",
   "metadata": {},
   "outputs": [
    {
     "data": {
      "text/plain": [
       "(4806, 3)"
      ]
     },
     "execution_count": 62,
     "metadata": {},
     "output_type": "execute_result"
    }
   ],
   "source": [
    "df_movie.shape"
   ]
  },
  {
   "cell_type": "markdown",
   "id": "be0b35f0-3c3c-497f-a2fc-057fc28afc56",
   "metadata": {},
   "source": [
    "# Converting All Sentences in Tags to Lowercase\n",
    "\n",
    "\n",
    "\n",
    "\n",
    "\n",
    "\n"
   ]
  },
  {
   "cell_type": "code",
   "execution_count": 64,
   "id": "b80b589c-c75f-47a2-b4e1-53ae2732094b",
   "metadata": {},
   "outputs": [
    {
     "name": "stderr",
     "output_type": "stream",
     "text": [
      "C:\\Users\\AHSAN\\AppData\\Local\\Temp\\ipykernel_5536\\3640735153.py:1: SettingWithCopyWarning: \n",
      "A value is trying to be set on a copy of a slice from a DataFrame.\n",
      "Try using .loc[row_indexer,col_indexer] = value instead\n",
      "\n",
      "See the caveats in the documentation: https://pandas.pydata.org/pandas-docs/stable/user_guide/indexing.html#returning-a-view-versus-a-copy\n",
      "  df_movie[\"tags\"]=df_movie[\"tags\"].apply(lambda x: x.lower())\n"
     ]
    }
   ],
   "source": [
    "df_movie[\"tags\"]=df_movie[\"tags\"].apply(lambda x: x.lower())"
   ]
  },
  {
   "cell_type": "code",
   "execution_count": 65,
   "id": "68f1c84a-3832-49ec-9205-a5058bcc869f",
   "metadata": {},
   "outputs": [
    {
     "data": {
      "text/plain": [
       "'action adventure fantasy sciencefiction cultureclash future spacewar spacecolony society spacetravel futuristic romance space alien tribe alienplanet cgi marine soldier battle loveaffair antiwar powerrelations mindandsoul 3d samworthington zoesaldana sigourneyweaver jamescameron in the 22nd century, a paraplegic marine is dispatched to the moon pandora on a unique mission, but becomes torn between following orders and protecting an alien civilization.'"
      ]
     },
     "execution_count": 65,
     "metadata": {},
     "output_type": "execute_result"
    }
   ],
   "source": [
    "df_movie.tags[0]"
   ]
  },
  {
   "cell_type": "markdown",
   "id": "3c9c93a2-3f57-4626-a8c6-e8128d102bf4",
   "metadata": {},
   "source": [
    "# Performing Vectorization with BoW\n",
    "\n",
    "\n",
    "\n",
    "\n",
    "\n",
    "\n"
   ]
  },
  {
   "cell_type": "code",
   "execution_count": 67,
   "id": "fd0d11e5-eb45-4167-b8a3-a5deeb566c4f",
   "metadata": {},
   "outputs": [],
   "source": [
    "# Bag of Words\n",
    "from sklearn.feature_extraction.text import CountVectorizer\n",
    "cv= CountVectorizer(max_features=5000, stop_words='english',binary=True)"
   ]
  },
  {
   "cell_type": "code",
   "execution_count": 68,
   "id": "4141a908-4f7c-44f7-ac33-70f19a4f1810",
   "metadata": {},
   "outputs": [
    {
     "data": {
      "text/plain": [
       "(4806, 5000)"
      ]
     },
     "execution_count": 68,
     "metadata": {},
     "output_type": "execute_result"
    }
   ],
   "source": [
    "vectors = cv.fit_transform(df_movie['tags']).toarray()\n",
    "vectors.shape"
   ]
  },
  {
   "cell_type": "code",
   "execution_count": 69,
   "id": "4da79850-6a38-4d99-9b04-25714e12f91d",
   "metadata": {},
   "outputs": [
    {
     "data": {
      "text/plain": [
       "array([[0, 0, 0, ..., 0, 0, 0],\n",
       "       [0, 0, 0, ..., 0, 0, 0],\n",
       "       [0, 0, 0, ..., 0, 0, 0],\n",
       "       ...,\n",
       "       [0, 0, 0, ..., 0, 0, 0],\n",
       "       [0, 0, 0, ..., 0, 0, 0],\n",
       "       [0, 0, 0, ..., 0, 0, 0]], dtype=int64)"
      ]
     },
     "execution_count": 69,
     "metadata": {},
     "output_type": "execute_result"
    }
   ],
   "source": [
    "vectors"
   ]
  },
  {
   "cell_type": "code",
   "execution_count": 70,
   "id": "62bb7b11-c046-4d25-ab62-4f77b3411d91",
   "metadata": {},
   "outputs": [
    {
     "data": {
      "text/plain": [
       "30"
      ]
     },
     "execution_count": 70,
     "metadata": {},
     "output_type": "execute_result"
    }
   ],
   "source": [
    "vectors[0].sum()"
   ]
  },
  {
   "cell_type": "code",
   "execution_count": 71,
   "id": "abf7985d-ea09-4fef-ac0b-25d66a770be9",
   "metadata": {},
   "outputs": [
    {
     "data": {
      "text/plain": [
       "array(['000', '007', '10', ..., 'zone', 'zoo', 'zooeydeschanel'],\n",
       "      dtype=object)"
      ]
     },
     "execution_count": 71,
     "metadata": {},
     "output_type": "execute_result"
    }
   ],
   "source": [
    "cv.get_feature_names_out()    #ya vo word hain jo upper humna cv ko slect karny k liya kaha ha,5000 inki length ha"
   ]
  },
  {
   "cell_type": "markdown",
   "id": "94ee5c4d-475c-494e-a31e-4c397c70734e",
   "metadata": {},
   "source": [
    "# Computing Similarity Using Cosine Distance\n",
    "\n",
    "\n",
    "\n",
    "\n",
    "\n",
    "\n"
   ]
  },
  {
   "cell_type": "code",
   "execution_count": 73,
   "id": "c609c9b0-9e1e-4605-a3cb-313370640f2d",
   "metadata": {},
   "outputs": [],
   "source": [
    "from sklearn.metrics.pairwise import cosine_similarity"
   ]
  },
  {
   "cell_type": "code",
   "execution_count": 74,
   "id": "39381059-ccea-4fb8-8609-0c0caad8a67f",
   "metadata": {},
   "outputs": [
    {
     "data": {
      "text/plain": [
       "(4806, 4806)"
      ]
     },
     "execution_count": 74,
     "metadata": {},
     "output_type": "execute_result"
    }
   ],
   "source": [
    "similarity = cosine_similarity(vectors)   #the vectors variable has numeric values of tags\n",
    "similarity.shape"
   ]
  },
  {
   "cell_type": "code",
   "execution_count": 75,
   "id": "853c20c8-edc7-452e-9ca2-8726eca0912f",
   "metadata": {
    "scrolled": true
   },
   "outputs": [
    {
     "data": {
      "text/plain": [
       "[0.9999999999999998,\n",
       " 0.25131234497501725,\n",
       " 0.22841609628806428,\n",
       " 0.22786635759382504,\n",
       " 0.22360679774997896,\n",
       " 0.2191785018798023,\n",
       " 0.21908902300206642,\n",
       " 0.21516574145596762,\n",
       " 0.21081851067789198,\n",
       " 0.20942695414584772,\n",
       " 0.20701966780270625,\n",
       " 0.20701966780270623,\n",
       " 0.20412414523193148,\n",
       " 0.20254787341673333,\n",
       " 0.20254787341673333,\n",
       " 0.19674775073518588,\n",
       " 0.19674775073518588,\n",
       " 0.19674775073518586,\n",
       " 0.1936491673103708,\n",
       " 0.1936491673103708,\n",
       " 0.19069251784911845,\n",
       " 0.19069251784911845,\n",
       " 0.19034674690672024,\n",
       " 0.19034674690672024,\n",
       " 0.18516401995451026,\n",
       " 0.18257418583505536,\n",
       " 0.18257418583505536,\n",
       " 0.18257418583505536,\n",
       " 0.18257418583505536,\n",
       " 0.18257418583505536,\n",
       " 0.18257418583505536,\n",
       " 0.18257418583505536,\n",
       " 0.18009006755629928,\n",
       " 0.17902871850985821,\n",
       " 0.1790287185098582,\n",
       " 0.17712297710801905,\n",
       " 0.17568209223157663,\n",
       " 0.17251638983558854,\n",
       " 0.17213259316477408,\n",
       " 0.1710797845536603,\n",
       " 0.1695158759052026,\n",
       " 0.1695158759052026,\n",
       " 0.1695158759052026,\n",
       " 0.1695158759052026,\n",
       " 0.1675415633166782,\n",
       " 0.1675415633166782,\n",
       " 0.16666666666666663,\n",
       " 0.1651445647689541,\n",
       " 0.16395645894598823,\n",
       " 0.16395645894598823,\n",
       " 0.1639564589459882,\n",
       " 0.1632993161855452,\n",
       " 0.1632993161855452,\n",
       " 0.1632993161855452,\n",
       " 0.1632993161855452,\n",
       " 0.16137430609197567,\n",
       " 0.16137430609197567,\n",
       " 0.16137430609197567,\n",
       " 0.15936381457791915,\n",
       " 0.15936381457791915,\n",
       " 0.15936381457791915,\n",
       " 0.15891043154093204,\n",
       " 0.158113883008419,\n",
       " 0.15655607277128736,\n",
       " 0.1564921592871903,\n",
       " 0.15569978883230456,\n",
       " 0.15569978883230456,\n",
       " 0.15569978883230456,\n",
       " 0.15569978883230456,\n",
       " 0.15569978883230456,\n",
       " 0.15430334996209188,\n",
       " 0.15430334996209188,\n",
       " 0.15430334996209188,\n",
       " 0.15430334996209188,\n",
       " 0.15430334996209188,\n",
       " 0.15339299776947404,\n",
       " 0.1522773975253762,\n",
       " 0.1522773975253762,\n",
       " 0.15214515486254612,\n",
       " 0.15214515486254612,\n",
       " 0.15191090506255,\n",
       " 0.15191090506255,\n",
       " 0.15007505629691606,\n",
       " 0.15007505629691606,\n",
       " 0.14907119849998599,\n",
       " 0.14907119849998599,\n",
       " 0.14808721943977307,\n",
       " 0.14808721943977307,\n",
       " 0.14808721943977307,\n",
       " 0.14808721943977307,\n",
       " 0.14638501094227996,\n",
       " 0.14638501094227996,\n",
       " 0.14638501094227996,\n",
       " 0.14638501094227996,\n",
       " 0.14617633655117152,\n",
       " 0.14617633655117152,\n",
       " 0.14617633655117152,\n",
       " 0.14617633655117152,\n",
       " 0.1460593486680443,\n",
       " 0.1460593486680443,\n",
       " 0.14433756729740643,\n",
       " 0.14322297480788657,\n",
       " 0.14322297480788657,\n",
       " 0.14322297480788657,\n",
       " 0.14322297480788657,\n",
       " 0.14322297480788657,\n",
       " 0.14322297480788657,\n",
       " 0.14322297480788657,\n",
       " 0.14322297480788657,\n",
       " 0.14256648712805026,\n",
       " 0.14256648712805026,\n",
       " 0.1405456737852613,\n",
       " 0.1405456737852613,\n",
       " 0.1405456737852613,\n",
       " 0.1405456737852613,\n",
       " 0.1405456737852613,\n",
       " 0.14025737466365532,\n",
       " 0.13921151159742612,\n",
       " 0.13921151159742612,\n",
       " 0.13921151159742612,\n",
       " 0.13801311186847082,\n",
       " 0.13801311186847082,\n",
       " 0.13801311186847082,\n",
       " 0.13801311186847082,\n",
       " 0.13801311186847082,\n",
       " 0.13801311186847082,\n",
       " 0.13801311186847082,\n",
       " 0.1380131118684708,\n",
       " 0.13762047064079508,\n",
       " 0.13762047064079508,\n",
       " 0.13693063937629152,\n",
       " 0.13693063937629152,\n",
       " 0.13693063937629152,\n",
       " 0.13693063937629152,\n",
       " 0.13608276348795434,\n",
       " 0.13561270072416207,\n",
       " 0.13561270072416207,\n",
       " 0.13561270072416207,\n",
       " 0.13561270072416207,\n",
       " 0.13561270072416207,\n",
       " 0.13561270072416207,\n",
       " 0.13561270072416207,\n",
       " 0.13561270072416207,\n",
       " 0.1333333333333333,\n",
       " 0.1333333333333333,\n",
       " 0.1333333333333333,\n",
       " 0.1333333333333333,\n",
       " 0.1333333333333333,\n",
       " 0.1333333333333333,\n",
       " 0.1333333333333333,\n",
       " 0.1333333333333333,\n",
       " 0.1328422328310143,\n",
       " 0.13116516715679058,\n",
       " 0.13116516715679058,\n",
       " 0.13116516715679058,\n",
       " 0.13116516715679058,\n",
       " 0.13116516715679058,\n",
       " 0.13041013273932525,\n",
       " 0.13041013273932525,\n",
       " 0.12909944487358055,\n",
       " 0.12909944487358055,\n",
       " 0.12909944487358055,\n",
       " 0.12909944487358055,\n",
       " 0.12909944487358055,\n",
       " 0.12909944487358055,\n",
       " 0.12909944487358055,\n",
       " 0.12909944487358055,\n",
       " 0.12909944487358055,\n",
       " 0.12909944487358055,\n",
       " 0.12909944487358055,\n",
       " 0.12909944487358055,\n",
       " 0.12909944487358055,\n",
       " 0.12909944487358055,\n",
       " 0.12909944487358055,\n",
       " 0.12909944487358055,\n",
       " 0.12782749814122837,\n",
       " 0.12712834523274563,\n",
       " 0.12712834523274563,\n",
       " 0.12712834523274563,\n",
       " 0.12712834523274563,\n",
       " 0.12712834523274563,\n",
       " 0.12712834523274563,\n",
       " 0.12565617248750865,\n",
       " 0.12565617248750865,\n",
       " 0.12565617248750865,\n",
       " 0.12565617248750865,\n",
       " 0.12565617248750865,\n",
       " 0.12565617248750865,\n",
       " 0.12565617248750865,\n",
       " 0.12565617248750865,\n",
       " 0.1253924656438798,\n",
       " 0.1253924656438798,\n",
       " 0.12524485821702988,\n",
       " 0.12524485821702988,\n",
       " 0.12524485821702988,\n",
       " 0.12524485821702988,\n",
       " 0.12524485821702988,\n",
       " 0.12524485821702988,\n",
       " 0.12524485821702988,\n",
       " 0.12422599874998831,\n",
       " 0.12344267996967351,\n",
       " 0.12344267996967351,\n",
       " 0.12344267996967351,\n",
       " 0.12344267996967351,\n",
       " 0.12344267996967351,\n",
       " 0.12344267996967351,\n",
       " 0.1224744871391589,\n",
       " 0.1224744871391589,\n",
       " 0.1224744871391589,\n",
       " 0.1224744871391589,\n",
       " 0.1224744871391589,\n",
       " 0.1224744871391589,\n",
       " 0.1224744871391589,\n",
       " 0.1224744871391589,\n",
       " 0.1224744871391589,\n",
       " 0.1224744871391589,\n",
       " 0.1217161238900369,\n",
       " 0.1217161238900369,\n",
       " 0.1217161238900369,\n",
       " 0.1217161238900369,\n",
       " 0.1217161238900369,\n",
       " 0.1217161238900369,\n",
       " 0.1217161238900369,\n",
       " 0.1217161238900369,\n",
       " 0.12006004503753284,\n",
       " 0.12006004503753284,\n",
       " 0.12006004503753284,\n",
       " 0.12006004503753284,\n",
       " 0.12006004503753284,\n",
       " 0.11952286093343936,\n",
       " 0.11952286093343936,\n",
       " 0.11952286093343936,\n",
       " 0.11952286093343936,\n",
       " 0.11952286093343936,\n",
       " 0.11952286093343936,\n",
       " 0.11952286093343936,\n",
       " 0.11952286093343936,\n",
       " 0.11952286093343936,\n",
       " 0.11952286093343936,\n",
       " 0.11952286093343936,\n",
       " 0.11846977555181847,\n",
       " 0.11846977555181847,\n",
       " 0.11846977555181847,\n",
       " 0.11846977555181847,\n",
       " 0.11694106924093722,\n",
       " 0.11694106924093722,\n",
       " 0.11694106924093722,\n",
       " 0.11694106924093722,\n",
       " 0.11694106924093722,\n",
       " 0.11694106924093722,\n",
       " 0.11677484162422842,\n",
       " 0.11677484162422842,\n",
       " 0.11677484162422842,\n",
       " 0.11677484162422842,\n",
       " 0.11677484162422842,\n",
       " 0.11677484162422842,\n",
       " 0.11677484162422842,\n",
       " 0.11547005383792515,\n",
       " 0.11547005383792515,\n",
       " 0.11547005383792515,\n",
       " 0.11547005383792515,\n",
       " 0.11547005383792515,\n",
       " 0.11547005383792515,\n",
       " 0.11547005383792515,\n",
       " 0.11547005383792515,\n",
       " 0.11547005383792515,\n",
       " 0.11420804814403215,\n",
       " 0.11420804814403215,\n",
       " 0.11420804814403215,\n",
       " 0.11420804814403215,\n",
       " 0.11420804814403215,\n",
       " 0.11420804814403215,\n",
       " 0.11420804814403215,\n",
       " 0.11420804814403215,\n",
       " 0.11420804814403215,\n",
       " 0.11420804814403215,\n",
       " 0.11420804814403215,\n",
       " 0.11420804814403215,\n",
       " 0.11420804814403215,\n",
       " 0.1126872339638022,\n",
       " 0.1126872339638022,\n",
       " 0.1126872339638022,\n",
       " 0.1118033988749895,\n",
       " 0.1118033988749895,\n",
       " 0.1118033988749895,\n",
       " 0.1118033988749895,\n",
       " 0.1118033988749895,\n",
       " 0.1118033988749895,\n",
       " 0.1118033988749895,\n",
       " 0.1118033988749895,\n",
       " 0.1118033988749895,\n",
       " 0.1118033988749895,\n",
       " 0.1118033988749895,\n",
       " 0.1118033988749895,\n",
       " 0.1113692092779409,\n",
       " 0.1113692092779409,\n",
       " 0.1113692092779409,\n",
       " 0.11009637651263605,\n",
       " 0.11009637651263605,\n",
       " 0.11009637651263605,\n",
       " 0.11009637651263605,\n",
       " 0.11009637651263605,\n",
       " 0.10954451150103323,\n",
       " 0.10954451150103323,\n",
       " 0.10954451150103323,\n",
       " 0.10954451150103323,\n",
       " 0.10954451150103323,\n",
       " 0.10954451150103323,\n",
       " 0.10954451150103323,\n",
       " 0.10954451150103323,\n",
       " 0.10954451150103323,\n",
       " 0.10886621079036347,\n",
       " 0.10886621079036347,\n",
       " 0.10886621079036347,\n",
       " 0.10758287072798381,\n",
       " 0.10741723110591492,\n",
       " 0.10741723110591492,\n",
       " 0.10741723110591492,\n",
       " 0.10741723110591492,\n",
       " 0.10741723110591492,\n",
       " 0.10741723110591492,\n",
       " 0.10741723110591492,\n",
       " 0.10741723110591492,\n",
       " 0.10741723110591492,\n",
       " 0.10741723110591492,\n",
       " 0.10741723110591492,\n",
       " 0.10741723110591492,\n",
       " 0.10741723110591492,\n",
       " 0.10652472825826148,\n",
       " 0.10652472825826148,\n",
       " 0.10652472825826148,\n",
       " 0.10652472825826148,\n",
       " 0.10540925533894599,\n",
       " 0.10540925533894599,\n",
       " 0.10540925533894599,\n",
       " 0.10540925533894599,\n",
       " 0.10540925533894599,\n",
       " 0.10540925533894599,\n",
       " 0.10540925533894599,\n",
       " 0.10540925533894599,\n",
       " 0.10540925533894599,\n",
       " 0.10540925533894599,\n",
       " 0.10540925533894599,\n",
       " 0.10540925533894599,\n",
       " 0.10540925533894599,\n",
       " 0.10540925533894599,\n",
       " 0.10540925533894599,\n",
       " 0.10540925533894599,\n",
       " 0.10540925533894599,\n",
       " 0.10540925533894599,\n",
       " 0.10540925533894599,\n",
       " 0.10540925533894599,\n",
       " 0.10540925533894598,\n",
       " 0.1043281061914602,\n",
       " 0.1043281061914602,\n",
       " 0.1043281061914602,\n",
       " 0.1043281061914602,\n",
       " 0.10350983390135311,\n",
       " 0.10350983390135311,\n",
       " 0.10350983390135311,\n",
       " 0.10350983390135311,\n",
       " 0.10350983390135311,\n",
       " 0.10350983390135311,\n",
       " 0.10350983390135311,\n",
       " 0.10350983390135311,\n",
       " 0.10350983390135311,\n",
       " 0.10350983390135311,\n",
       " 0.10350983390135311,\n",
       " 0.10350983390135311,\n",
       " 0.1022619985129827,\n",
       " 0.1022619985129827,\n",
       " 0.10170952554312154,\n",
       " 0.10170952554312154,\n",
       " 0.10170952554312154,\n",
       " 0.10170952554312154,\n",
       " 0.10170952554312154,\n",
       " 0.10170952554312154,\n",
       " 0.10170952554312154,\n",
       " 0.10170952554312154,\n",
       " 0.10170952554312154,\n",
       " 0.10170952554312154,\n",
       " 0.10127393670836667,\n",
       " 0.10127393670836667,\n",
       " 0.10127393670836667,\n",
       " 0.10127393670836667,\n",
       " 0.10127393670836667,\n",
       " 0.10127393670836667,\n",
       " 0.10127393670836667,\n",
       " 0.10127393670836667,\n",
       " 0.10127393670836667,\n",
       " 0.10127393670836667,\n",
       " 0.10127393670836667,\n",
       " 0.10031397251510384,\n",
       " 0.09999999999999998,\n",
       " 0.09999999999999998,\n",
       " 0.09999999999999998,\n",
       " 0.09999999999999998,\n",
       " 0.09999999999999998,\n",
       " 0.09999999999999998,\n",
       " 0.09999999999999998,\n",
       " 0.09999999999999998,\n",
       " 0.09999999999999998,\n",
       " 0.09999999999999998,\n",
       " 0.09999999999999998,\n",
       " 0.09999999999999998,\n",
       " 0.09999999999999998,\n",
       " 0.09999999999999998,\n",
       " 0.09837387536759293,\n",
       " 0.09837387536759293,\n",
       " 0.09837387536759293,\n",
       " 0.09837387536759293,\n",
       " 0.09837387536759293,\n",
       " 0.09837387536759293,\n",
       " 0.09837387536759293,\n",
       " 0.09837387536759293,\n",
       " 0.09759000729485331,\n",
       " 0.09759000729485331,\n",
       " 0.09759000729485331,\n",
       " 0.09759000729485331,\n",
       " 0.09759000729485331,\n",
       " 0.09759000729485331,\n",
       " 0.09759000729485331,\n",
       " 0.09759000729485331,\n",
       " 0.09759000729485331,\n",
       " 0.09759000729485331,\n",
       " 0.09759000729485331,\n",
       " 0.09682458365518541,\n",
       " 0.09682458365518541,\n",
       " 0.09682458365518541,\n",
       " 0.09682458365518541,\n",
       " 0.09682458365518541,\n",
       " 0.09682458365518541,\n",
       " 0.09682458365518541,\n",
       " 0.09682458365518541,\n",
       " 0.09682458365518541,\n",
       " 0.09682458365518541,\n",
       " 0.09682458365518541,\n",
       " 0.09682458365518541,\n",
       " 0.09682458365518541,\n",
       " 0.09682458365518541,\n",
       " 0.09673016668133488,\n",
       " 0.09589266029707681,\n",
       " 0.09534625892455922,\n",
       " 0.09534625892455922,\n",
       " 0.09534625892455922,\n",
       " 0.09534625892455922,\n",
       " 0.09534625892455922,\n",
       " 0.09534625892455922,\n",
       " 0.09534625892455922,\n",
       " 0.09534625892455922,\n",
       " 0.09534625892455922,\n",
       " 0.09534625892455922,\n",
       " 0.09534625892455922,\n",
       " 0.09534625892455922,\n",
       " 0.09534625892455922,\n",
       " 0.09428090415820632,\n",
       " 0.09428090415820632,\n",
       " 0.09428090415820632,\n",
       " 0.09428090415820632,\n",
       " 0.09428090415820632,\n",
       " 0.09428090415820632,\n",
       " 0.09428090415820632,\n",
       " 0.09428090415820632,\n",
       " 0.0939336436627724,\n",
       " 0.0939336436627724,\n",
       " 0.0939336436627724,\n",
       " 0.0939336436627724,\n",
       " 0.0939336436627724,\n",
       " 0.0939336436627724,\n",
       " 0.0939336436627724,\n",
       " 0.0939336436627724,\n",
       " 0.0939336436627724,\n",
       " 0.0939336436627724,\n",
       " 0.0939336436627724,\n",
       " 0.0939336436627724,\n",
       " 0.0939336436627724,\n",
       " 0.0939336436627724,\n",
       " 0.09258200997725513,\n",
       " 0.09258200997725513,\n",
       " 0.09258200997725513,\n",
       " 0.09258200997725513,\n",
       " 0.09258200997725513,\n",
       " 0.09258200997725513,\n",
       " 0.09258200997725513,\n",
       " 0.09258200997725513,\n",
       " 0.09258200997725513,\n",
       " 0.09258200997725513,\n",
       " 0.09258200997725513,\n",
       " 0.09258200997725513,\n",
       " 0.09258200997725513,\n",
       " 0.09258200997725513,\n",
       " 0.0920087412456472,\n",
       " 0.09128709291752768,\n",
       " 0.09128709291752768,\n",
       " 0.09128709291752768,\n",
       " 0.09128709291752768,\n",
       " 0.09128709291752768,\n",
       " 0.09128709291752768,\n",
       " 0.09128709291752768,\n",
       " 0.09128709291752768,\n",
       " 0.09128709291752768,\n",
       " 0.09128709291752768,\n",
       " 0.09128709291752768,\n",
       " 0.09128709291752768,\n",
       " 0.09128709291752768,\n",
       " 0.09128709291752768,\n",
       " 0.09128709291752768,\n",
       " 0.09128709291752768,\n",
       " 0.09128709291752768,\n",
       " 0.09128709291752768,\n",
       " 0.09128709291752768,\n",
       " 0.09128709291752768,\n",
       " 0.09128709291752768,\n",
       " 0.09128709291752768,\n",
       " 0.09128709291752768,\n",
       " 0.09128709291752768,\n",
       " 0.09128709291752768,\n",
       " 0.09128709291752768,\n",
       " 0.09128709291752768,\n",
       " 0.09128709291752768,\n",
       " 0.09004503377814962,\n",
       " 0.09004503377814962,\n",
       " 0.09004503377814962,\n",
       " 0.09004503377814962,\n",
       " 0.09004503377814962,\n",
       " 0.09004503377814962,\n",
       " 0.09004503377814962,\n",
       " 0.09004503377814962,\n",
       " 0.09004503377814962,\n",
       " 0.09004503377814962,\n",
       " 0.08885233166386385,\n",
       " 0.08885233166386385,\n",
       " 0.08885233166386385,\n",
       " 0.08885233166386385,\n",
       " 0.08885233166386385,\n",
       " 0.08885233166386385,\n",
       " 0.08885233166386385,\n",
       " 0.08885233166386385,\n",
       " 0.08885233166386385,\n",
       " 0.08856148855400953,\n",
       " 0.08856148855400953,\n",
       " 0.08856148855400953,\n",
       " 0.08856148855400953,\n",
       " 0.08856148855400953,\n",
       " 0.08856148855400953,\n",
       " 0.08856148855400953,\n",
       " 0.08856148855400953,\n",
       " 0.08856148855400953,\n",
       " 0.08856148855400953,\n",
       " 0.08856148855400953,\n",
       " 0.08856148855400953,\n",
       " 0.08856148855400953,\n",
       " 0.08856148855400953,\n",
       " 0.08856148855400953,\n",
       " 0.08856148855400953,\n",
       " 0.08856148855400953,\n",
       " 0.08856148855400953,\n",
       " 0.08856148855400953,\n",
       " 0.08856148855400953,\n",
       " 0.08856148855400953,\n",
       " 0.08856148855400953,\n",
       " 0.08856148855400953,\n",
       " 0.08856148855400953,\n",
       " 0.08770580193070292,\n",
       " 0.08770580193070292,\n",
       " 0.08770580193070292,\n",
       " 0.08770580193070292,\n",
       " 0.08770580193070292,\n",
       " 0.08770580193070292,\n",
       " 0.08770580193070292,\n",
       " 0.08667027800348788,\n",
       " 0.08660254037844387,\n",
       " 0.08660254037844387,\n",
       " 0.08660254037844387,\n",
       " 0.08660254037844387,\n",
       " 0.08660254037844387,\n",
       " 0.08660254037844387,\n",
       " 0.08660254037844387,\n",
       " 0.08660254037844387,\n",
       " 0.08660254037844387,\n",
       " 0.08660254037844387,\n",
       " 0.08660254037844387,\n",
       " 0.08660254037844387,\n",
       " 0.08606629658238704,\n",
       " 0.08606629658238704,\n",
       " 0.08606629658238704,\n",
       " 0.08606629658238704,\n",
       " 0.08606629658238704,\n",
       " 0.08606629658238704,\n",
       " 0.08606629658238704,\n",
       " 0.08606629658238704,\n",
       " 0.08606629658238704,\n",
       " 0.08606629658238704,\n",
       " 0.08606629658238704,\n",
       " 0.08606629658238704,\n",
       " 0.08606629658238704,\n",
       " 0.08606629658238704,\n",
       " 0.08606629658238704,\n",
       " 0.08606629658238704,\n",
       " 0.08606629658238704,\n",
       " 0.08606629658238704,\n",
       " 0.08606629658238704,\n",
       " 0.08606629658238704,\n",
       " 0.08606629658238704,\n",
       " 0.08553989227683015,\n",
       " 0.08553989227683015,\n",
       " 0.08553989227683015,\n",
       " 0.08553989227683015,\n",
       " 0.08553989227683015,\n",
       " 0.08553989227683015,\n",
       " 0.08451542547285165,\n",
       " 0.08451542547285165,\n",
       " 0.08451542547285165,\n",
       " 0.08451542547285165,\n",
       " 0.08451542547285165,\n",
       " 0.08451542547285165,\n",
       " 0.08451542547285165,\n",
       " 0.08451542547285165,\n",
       " 0.0837707816583391,\n",
       " 0.0837707816583391,\n",
       " 0.0837707816583391,\n",
       " 0.0837707816583391,\n",
       " 0.0837707816583391,\n",
       " 0.0837707816583391,\n",
       " 0.0837707816583391,\n",
       " 0.0837707816583391,\n",
       " 0.0837707816583391,\n",
       " 0.0837707816583391,\n",
       " 0.0837707816583391,\n",
       " 0.0837707816583391,\n",
       " 0.08352690695845567,\n",
       " 0.08352690695845567,\n",
       " 0.08352690695845567,\n",
       " 0.08352690695845567,\n",
       " 0.08352690695845567,\n",
       " 0.0832250378576479,\n",
       " 0.08257228238447704,\n",
       " 0.08257228238447704,\n",
       " 0.08257228238447704,\n",
       " 0.08257228238447704,\n",
       " 0.08164965809277261,\n",
       " 0.08164965809277261,\n",
       " 0.08164965809277261,\n",
       " 0.08164965809277261,\n",
       " 0.08164965809277261,\n",
       " 0.08164965809277261,\n",
       " 0.08164965809277261,\n",
       " 0.08164965809277261,\n",
       " 0.08164965809277261,\n",
       " 0.08164965809277261,\n",
       " 0.0816496580927726,\n",
       " 0.0816496580927726,\n",
       " 0.0816496580927726,\n",
       " 0.0816496580927726,\n",
       " 0.0816496580927726,\n",
       " 0.0816496580927726,\n",
       " 0.0816496580927726,\n",
       " 0.0816496580927726,\n",
       " 0.0816496580927726,\n",
       " 0.0816496580927726,\n",
       " 0.0816496580927726,\n",
       " 0.0816496580927726,\n",
       " 0.0816496580927726,\n",
       " 0.0816496580927726,\n",
       " 0.0816496580927726,\n",
       " 0.0816496580927726,\n",
       " 0.0816496580927726,\n",
       " 0.0816496580927726,\n",
       " 0.0816496580927726,\n",
       " 0.0816496580927726,\n",
       " 0.0816496580927726,\n",
       " 0.08075728530872482,\n",
       " 0.08075728530872482,\n",
       " 0.07968190728895957,\n",
       " 0.07968190728895957,\n",
       " 0.07968190728895957,\n",
       " 0.07968190728895957,\n",
       " 0.07968190728895957,\n",
       " 0.07968190728895957,\n",
       " 0.07968190728895957,\n",
       " 0.07968190728895957,\n",
       " 0.07968190728895957,\n",
       " 0.07968190728895957,\n",
       " 0.07968190728895957,\n",
       " 0.07968190728895957,\n",
       " 0.07968190728895957,\n",
       " 0.07968190728895957,\n",
       " 0.07968190728895957,\n",
       " 0.07968190728895957,\n",
       " 0.07968190728895957,\n",
       " 0.07968190728895957,\n",
       " 0.07968190728895957,\n",
       " 0.07968190728895957,\n",
       " 0.07968190728895957,\n",
       " 0.07968190728895957,\n",
       " 0.07968190728895957,\n",
       " 0.07968190728895957,\n",
       " 0.07968190728895957,\n",
       " 0.07968190728895957,\n",
       " 0.07968190728895957,\n",
       " 0.0790569415042095,\n",
       " 0.0790569415042095,\n",
       " 0.0790569415042095,\n",
       " 0.0790569415042095,\n",
       " 0.07824607964359515,\n",
       " 0.07824607964359515,\n",
       " 0.07824607964359515,\n",
       " 0.07824607964359515,\n",
       " 0.07824607964359515,\n",
       " 0.07824607964359515,\n",
       " 0.07784989441615228,\n",
       " 0.07784989441615228,\n",
       " 0.07784989441615228,\n",
       " 0.07784989441615228,\n",
       " 0.07784989441615228,\n",
       " 0.07784989441615228,\n",
       " 0.07784989441615228,\n",
       " 0.07784989441615228,\n",
       " 0.07784989441615228,\n",
       " 0.07784989441615228,\n",
       " 0.07784989441615228,\n",
       " 0.07784989441615228,\n",
       " 0.07784989441615228,\n",
       " 0.07784989441615228,\n",
       " 0.07784989441615228,\n",
       " 0.07784989441615228,\n",
       " 0.07784989441615228,\n",
       " 0.07784989441615228,\n",
       " 0.07784989441615228,\n",
       " 0.07784989441615228,\n",
       " 0.07784989441615228,\n",
       " 0.07784989441615228,\n",
       " 0.07784989441615228,\n",
       " 0.07784989441615228,\n",
       " 0.07784989441615228,\n",
       " 0.07669649888473704,\n",
       " 0.07669649888473704,\n",
       " 0.0761386987626881,\n",
       " 0.0761386987626881,\n",
       " 0.0761386987626881,\n",
       " 0.0761386987626881,\n",
       " 0.0761386987626881,\n",
       " 0.0761386987626881,\n",
       " 0.0761386987626881,\n",
       " 0.0761386987626881,\n",
       " 0.0761386987626881,\n",
       " 0.0761386987626881,\n",
       " 0.0761386987626881,\n",
       " 0.0761386987626881,\n",
       " 0.0761386987626881,\n",
       " 0.0761386987626881,\n",
       " 0.0761386987626881,\n",
       " 0.0761386987626881,\n",
       " 0.0761386987626881,\n",
       " 0.0761386987626881,\n",
       " 0.0761386987626881,\n",
       " 0.0761386987626881,\n",
       " 0.0761386987626881,\n",
       " 0.0761386987626881,\n",
       " 0.0761386987626881,\n",
       " 0.0761386987626881,\n",
       " 0.0761386987626881,\n",
       " 0.0761386987626881,\n",
       " 0.0761386987626881,\n",
       " 0.0761386987626881,\n",
       " 0.0761386987626881,\n",
       " 0.0761386987626881,\n",
       " 0.0761386987626881,\n",
       " 0.0761386987626881,\n",
       " 0.075955452531275,\n",
       " 0.075955452531275,\n",
       " 0.075955452531275,\n",
       " 0.075955452531275,\n",
       " 0.075955452531275,\n",
       " 0.07453559924999299,\n",
       " 0.07453559924999299,\n",
       " 0.07453559924999299,\n",
       " 0.07453559924999299,\n",
       " 0.07453559924999299,\n",
       " 0.07453559924999299,\n",
       " 0.07453559924999299,\n",
       " 0.07453559924999299,\n",
       " 0.07453559924999299,\n",
       " 0.07453559924999299,\n",
       " 0.07453559924999299,\n",
       " 0.07453559924999299,\n",
       " 0.07453559924999299,\n",
       " 0.07453559924999299,\n",
       " 0.07453559924999299,\n",
       " 0.07453559924999299,\n",
       " 0.07453559924999299,\n",
       " 0.07453559924999299,\n",
       " 0.07453559924999299,\n",
       " 0.07453559924999299,\n",
       " 0.07453559924999299,\n",
       " 0.07453559924999299,\n",
       " 0.07453559924999299,\n",
       " 0.07453559924999299,\n",
       " 0.07453559924999299,\n",
       " 0.07453559924999299,\n",
       " 0.07385489458759964,\n",
       " 0.07385489458759964,\n",
       " 0.07385489458759964,\n",
       " 0.07302967433402215,\n",
       " 0.07302967433402215,\n",
       " 0.07302967433402215,\n",
       " 0.07302967433402215,\n",
       " 0.07302967433402215,\n",
       " 0.07302967433402215,\n",
       " 0.07302967433402215,\n",
       " 0.07302967433402215,\n",
       " 0.07302967433402215,\n",
       " 0.07302967433402215,\n",
       " 0.07302967433402215,\n",
       " 0.07302967433402215,\n",
       " 0.07302967433402215,\n",
       " 0.07302967433402215,\n",
       " 0.07302967433402215,\n",
       " 0.07302967433402215,\n",
       " 0.07302967433402215,\n",
       " 0.07302967433402215,\n",
       " 0.07302967433402215,\n",
       " 0.07302967433402215,\n",
       " 0.07302967433402215,\n",
       " 0.07302967433402215,\n",
       " 0.07302967433402215,\n",
       " 0.07302967433402215,\n",
       " 0.07302967433402215,\n",
       " 0.07302967433402215,\n",
       " 0.07302967433402215,\n",
       " 0.07302967433402215,\n",
       " 0.07302967433402215,\n",
       " 0.07302967433402215,\n",
       " 0.07302967433402215,\n",
       " 0.07302967433402215,\n",
       " 0.0719194952228076,\n",
       " 0.0719194952228076,\n",
       " 0.07161148740394328,\n",
       " 0.07161148740394328,\n",
       " 0.07161148740394328,\n",
       " 0.07161148740394328,\n",
       " 0.07161148740394328,\n",
       " 0.07161148740394328,\n",
       " 0.07161148740394328,\n",
       " 0.07161148740394328,\n",
       " 0.07161148740394328,\n",
       " 0.07161148740394328,\n",
       " 0.07161148740394328,\n",
       " 0.07161148740394328,\n",
       " 0.07161148740394328,\n",
       " 0.07161148740394328,\n",
       " 0.07161148740394328,\n",
       " 0.07161148740394328,\n",
       " 0.07161148740394328,\n",
       " 0.07161148740394328,\n",
       " 0.07161148740394328,\n",
       " 0.07161148740394328,\n",
       " 0.07161148740394328,\n",
       " 0.07161148740394328,\n",
       " 0.07161148740394328,\n",
       " 0.07161148740394328,\n",
       " 0.07161148740394328,\n",
       " 0.07130740328122925,\n",
       " 0.07027283689263066,\n",
       " 0.07027283689263066,\n",
       " 0.07027283689263066,\n",
       " 0.07027283689263066,\n",
       " 0.07027283689263066,\n",
       " 0.07027283689263066,\n",
       " 0.07027283689263066,\n",
       " 0.07027283689263066,\n",
       " 0.07027283689263066,\n",
       " 0.07027283689263066,\n",
       " 0.07027283689263066,\n",
       " 0.07027283689263066,\n",
       " 0.07027283689263066,\n",
       " 0.07027283689263066,\n",
       " 0.07027283689263066,\n",
       " 0.07027283689263066,\n",
       " 0.07027283689263066,\n",
       " 0.07027283689263066,\n",
       " 0.07027283689263066,\n",
       " 0.07027283689263066,\n",
       " 0.07027283689263066,\n",
       " 0.07027283689263066,\n",
       " 0.07027283689263066,\n",
       " 0.07027283689263066,\n",
       " 0.07027283689263066,\n",
       " 0.07027283689263066,\n",
       " 0.07027283689263066,\n",
       " 0.07027283689263066,\n",
       " 0.07027283689263066,\n",
       " 0.07027283689263066,\n",
       " 0.07027283689263066,\n",
       " 0.07027283689263066,\n",
       " 0.07012868733182767,\n",
       " 0.06900655593423541,\n",
       " 0.06900655593423541,\n",
       " 0.06900655593423541,\n",
       " 0.06900655593423541,\n",
       " 0.06900655593423541,\n",
       " 0.06900655593423541,\n",
       " 0.06900655593423541,\n",
       " 0.06900655593423541,\n",
       " 0.06900655593423541,\n",
       " 0.06900655593423541,\n",
       " 0.06900655593423541,\n",
       " 0.06900655593423541,\n",
       " 0.06900655593423541,\n",
       " 0.06900655593423541,\n",
       " 0.06900655593423541,\n",
       " 0.06900655593423541,\n",
       " 0.06900655593423541,\n",
       " 0.06900655593423541,\n",
       " 0.06900655593423541,\n",
       " 0.06900655593423541,\n",
       " 0.06900655593423541,\n",
       " 0.06900655593423541,\n",
       " 0.06900655593423541,\n",
       " 0.06900655593423541,\n",
       " 0.06900655593423541,\n",
       " 0.06900655593423541,\n",
       " 0.06900655593423541,\n",
       " 0.06900655593423541,\n",
       " 0.06900655593423541,\n",
       " 0.06900655593423541,\n",
       " 0.06900655593423541,\n",
       " 0.06900655593423541,\n",
       " 0.06793662204867575,\n",
       " 0.06780635036208103,\n",
       " 0.06780635036208103,\n",
       " 0.06780635036208103,\n",
       " 0.06780635036208103,\n",
       " 0.06780635036208103,\n",
       " 0.06780635036208103,\n",
       " 0.06780635036208103,\n",
       " 0.06780635036208103,\n",
       " 0.06780635036208103,\n",
       " 0.06780635036208103,\n",
       " 0.06780635036208103,\n",
       " 0.06780635036208103,\n",
       " 0.06780635036208103,\n",
       " 0.06780635036208103,\n",
       " 0.06780635036208103,\n",
       " 0.06780635036208103,\n",
       " 0.06780635036208103,\n",
       " 0.06780635036208103,\n",
       " 0.06780635036208103,\n",
       " 0.06780635036208103,\n",
       " 0.06780635036208103,\n",
       " 0.06780635036208103,\n",
       " 0.06780635036208103,\n",
       " 0.06780635036208103,\n",
       " 0.06780635036208103,\n",
       " 0.06780635036208103,\n",
       " 0.06780635036208103,\n",
       " 0.06780635036208103,\n",
       " 0.06666666666666665,\n",
       " 0.06666666666666665,\n",
       " 0.06666666666666665,\n",
       " 0.06666666666666665,\n",
       " 0.06666666666666665,\n",
       " 0.06666666666666665,\n",
       " 0.06666666666666665,\n",
       " 0.06666666666666665,\n",
       " 0.06666666666666665,\n",
       " 0.06666666666666665,\n",
       " 0.06666666666666665,\n",
       " 0.06666666666666665,\n",
       " 0.06666666666666665,\n",
       " 0.06666666666666665,\n",
       " 0.06666666666666665,\n",
       " 0.06666666666666665,\n",
       " 0.06666666666666665,\n",
       " 0.06666666666666665,\n",
       " 0.06666666666666665,\n",
       " 0.06666666666666665,\n",
       " 0.06666666666666665,\n",
       " 0.06666666666666665,\n",
       " 0.06666666666666665,\n",
       " 0.06666666666666665,\n",
       " 0.06666666666666665,\n",
       " 0.06666666666666665,\n",
       " 0.06666666666666665,\n",
       " 0.06666666666666665,\n",
       " 0.06666666666666665,\n",
       " 0.06666666666666665,\n",
       " 0.06666666666666665,\n",
       " 0.06558258357839529,\n",
       " 0.06558258357839529,\n",
       " 0.06558258357839529,\n",
       " 0.06558258357839529,\n",
       " 0.06558258357839529,\n",
       " 0.06558258357839529,\n",
       " 0.06558258357839529,\n",
       " 0.06558258357839529,\n",
       " 0.06558258357839529,\n",
       " 0.06558258357839529,\n",
       " 0.06558258357839529,\n",
       " 0.06558258357839529,\n",
       " ...]"
      ]
     },
     "execution_count": 75,
     "metadata": {},
     "output_type": "execute_result"
    }
   ],
   "source": [
    "# need to get top 5 high sililarity scores\n",
    "# we can sort it in descending order\n",
    "\n",
    "sorted(similarity[0],reverse=True)\n",
    "\n",
    "\n",
    "#This will sort the series but index postion will also be moved\n",
    "# we will not only sort but also generate new indices usinf enumerate"
   ]
  },
  {
   "cell_type": "code",
   "execution_count": 76,
   "id": "6a88d4d5-20f0-4738-b9e8-675a8698d239",
   "metadata": {},
   "outputs": [
    {
     "data": {
      "text/plain": [
       "[(1192, 0.25131234497501725),\n",
       " (61, 0.22841609628806428),\n",
       " (47, 0.22786635759382504),\n",
       " (260, 0.22360679774997896),\n",
       " (322, 0.2191785018798023),\n",
       " (942, 0.21908902300206642),\n",
       " (151, 0.21516574145596762),\n",
       " (4405, 0.21081851067789198),\n",
       " (495, 0.20942695414584772)]"
      ]
     },
     "execution_count": 76,
     "metadata": {},
     "output_type": "execute_result"
    }
   ],
   "source": [
    "# this will sort on new indices \n",
    "# sorted(list(enumerate(similarity[0])))\n",
    "#enumerate will held the indexes also \n",
    "sorted(list(enumerate(similarity[0])),reverse=True, key=lambda x: x[1])[1:10]"
   ]
  },
  {
   "cell_type": "code",
   "execution_count": 77,
   "id": "34f76f48-6ad3-4c6c-bc3d-dab9e3c497e7",
   "metadata": {},
   "outputs": [
    {
     "data": {
      "text/plain": [
       "216"
      ]
     },
     "execution_count": 77,
     "metadata": {},
     "output_type": "execute_result"
    }
   ],
   "source": [
    "#Getting index of any movie\n",
    "df_movie[df_movie['title']=='Life of Pi'].index[0]"
   ]
  },
  {
   "cell_type": "code",
   "execution_count": 78,
   "id": "8e4abaf2-0a94-4a94-acea-05133f280516",
   "metadata": {},
   "outputs": [
    {
     "data": {
      "text/plain": [
       "'Life of Pi'"
      ]
     },
     "execution_count": 78,
     "metadata": {},
     "output_type": "execute_result"
    }
   ],
   "source": [
    "#getting title of movie using index\n",
    "df_movie.iloc[216]['title']"
   ]
  },
  {
   "cell_type": "markdown",
   "id": "cd264bdc-0a7d-4210-bd21-cf5adbfe81c1",
   "metadata": {},
   "source": [
    "# Recommendation Function"
   ]
  },
  {
   "cell_type": "code",
   "execution_count": 180,
   "id": "706d29b1-c411-4651-b737-11f3aff71b9e",
   "metadata": {},
   "outputs": [],
   "source": [
    "def recommend(movie):\n",
    "    movie = movie.lower()\n",
    "    \n",
    "    # Ensure case-insensitive matching\n",
    "    movie_indices = df_movie[df_movie['title'].str.lower() == movie].index\n",
    "    \n",
    "    if len(movie_indices) == 0:\n",
    "        print(\"Movie not found! Please check the title and try again.\")\n",
    "        return\n",
    "    \n",
    "    movie_index = movie_indices[0]  # Take the first matching index\n",
    "    distances = similarity[movie_index]  # Get similarity scores\n",
    "    \n",
    "    # Sort movies by similarity and get the top 9 recommendations (excluding itself)\n",
    "    movie_list = sorted(list(enumerate(distances)), key=lambda x: x[1], reverse=True)[1:10]\n",
    "    \n",
    "    # Print recommended movie titles\n",
    "    for i in movie_list:\n",
    "        print(df_movie.iloc[i[0]]['title'])\n"
   ]
  },
  {
   "cell_type": "markdown",
   "id": "d3db33c6-22bf-43c9-911b-379c5c8d66c0",
   "metadata": {},
   "source": [
    "# Examples"
   ]
  },
  {
   "cell_type": "code",
   "execution_count": 211,
   "id": "b90836f9-b7ba-414c-906b-44cf98359110",
   "metadata": {},
   "outputs": [
    {
     "name": "stdout",
     "output_type": "stream",
     "text": [
      "Iron Man 3\n",
      "Iron Man 2\n",
      "Avengers: Age of Ultron\n",
      "Captain America: Civil War\n",
      "The Avengers\n",
      "Ant-Man\n",
      "The Incredible Hulk\n",
      "Guardians of the Galaxy\n",
      "X-Men: The Last Stand\n"
     ]
    }
   ],
   "source": [
    "recommend(\"iron man\")"
   ]
  },
  {
   "cell_type": "code",
   "execution_count": 213,
   "id": "07ecb0c4-ce59-4bb2-9d7a-ab8f28def7ae",
   "metadata": {},
   "outputs": [
    {
     "name": "stdout",
     "output_type": "stream",
     "text": [
      "Small Soldiers\n",
      "Jupiter Ascending\n",
      "Star Trek Into Darkness\n",
      "Ender's Game\n",
      "The Fifth Element\n",
      "The Book of Life\n",
      "Beowulf\n",
      "The Helix... Loaded\n",
      "Journey 2: The Mysterious Island\n"
     ]
    }
   ],
   "source": [
    "recommend(\"avatar\")"
   ]
  },
  {
   "cell_type": "code",
   "execution_count": 215,
   "id": "3331609c-2000-47bc-ab91-8fc6c9c57ce1",
   "metadata": {},
   "outputs": [
    {
     "name": "stdout",
     "output_type": "stream",
     "text": [
      "Iron Man 3\n",
      "Captain America: The First Avenger\n",
      "Captain America: The Winter Soldier\n",
      "Iron Man 2\n",
      "The Avengers\n",
      "Ant-Man\n",
      "Avengers: Age of Ultron\n",
      "Iron Man\n",
      "X-Men: Days of Future Past\n"
     ]
    }
   ],
   "source": [
    "recommend(\"captain america: civil war\")"
   ]
  },
  {
   "cell_type": "code",
   "execution_count": null,
   "id": "0fc092d8-a1bb-4d89-87bb-16b2a9c74a4c",
   "metadata": {},
   "outputs": [],
   "source": []
  },
  {
   "cell_type": "code",
   "execution_count": null,
   "id": "4e6ce640-4dcc-4e88-be07-e1037fe3a0bb",
   "metadata": {},
   "outputs": [],
   "source": []
  },
  {
   "cell_type": "code",
   "execution_count": null,
   "id": "36a63b39-fef8-4cc1-81ee-f4a64483ce04",
   "metadata": {},
   "outputs": [],
   "source": []
  },
  {
   "cell_type": "code",
   "execution_count": null,
   "id": "b314d7e8-b97e-4b16-b92b-a93ea1bd3f80",
   "metadata": {},
   "outputs": [],
   "source": []
  },
  {
   "cell_type": "code",
   "execution_count": null,
   "id": "62791387-6320-4c48-80ff-ccee533978e9",
   "metadata": {},
   "outputs": [],
   "source": []
  },
  {
   "cell_type": "code",
   "execution_count": null,
   "id": "1ec62b83-a1c5-4fa9-891a-988c5d4c9b7c",
   "metadata": {},
   "outputs": [],
   "source": []
  },
  {
   "cell_type": "code",
   "execution_count": null,
   "id": "be015074-7874-43b6-8a60-c8bac7891a8c",
   "metadata": {},
   "outputs": [],
   "source": []
  },
  {
   "cell_type": "code",
   "execution_count": null,
   "id": "a45bc0d8-a492-4c98-af5b-a322bef170e5",
   "metadata": {},
   "outputs": [],
   "source": []
  },
  {
   "cell_type": "code",
   "execution_count": null,
   "id": "27d90822-8037-4150-8cb8-100d83e48e66",
   "metadata": {},
   "outputs": [],
   "source": []
  },
  {
   "cell_type": "code",
   "execution_count": 203,
   "id": "4980b1fb-dba3-4237-a153-1498391a5146",
   "metadata": {},
   "outputs": [
    {
     "data": {
      "text/html": [
       "<div>\n",
       "<style scoped>\n",
       "    .dataframe tbody tr th:only-of-type {\n",
       "        vertical-align: middle;\n",
       "    }\n",
       "\n",
       "    .dataframe tbody tr th {\n",
       "        vertical-align: top;\n",
       "    }\n",
       "\n",
       "    .dataframe thead th {\n",
       "        text-align: right;\n",
       "    }\n",
       "</style>\n",
       "<table border=\"1\" class=\"dataframe\">\n",
       "  <thead>\n",
       "    <tr style=\"text-align: right;\">\n",
       "      <th></th>\n",
       "      <th>genres</th>\n",
       "      <th>keywords</th>\n",
       "      <th>crew</th>\n",
       "      <th>movie_id</th>\n",
       "      <th>cast</th>\n",
       "      <th>overview</th>\n",
       "      <th>title</th>\n",
       "      <th>tags</th>\n",
       "    </tr>\n",
       "  </thead>\n",
       "  <tbody>\n",
       "    <tr>\n",
       "      <th>1483</th>\n",
       "      <td>[Family, Fantasy, Animation, Adventure]</td>\n",
       "      <td>[magic, 3d]</td>\n",
       "      <td>[BenStassen, JeremyDegruson]</td>\n",
       "      <td>202575</td>\n",
       "      <td>[BrianneSiddall, JoeyCamen, ElisaGabrielli]</td>\n",
       "      <td>[Thunder,, an, abandoned, young, cat, seeking,...</td>\n",
       "      <td>Thunder and the House of Magic</td>\n",
       "      <td>[Family, Fantasy, Animation, Adventure, magic,...</td>\n",
       "    </tr>\n",
       "    <tr>\n",
       "      <th>1794</th>\n",
       "      <td>[Thriller, Crime, Action]</td>\n",
       "      <td>[miami, scam, crime, weightlifting, weightlift...</td>\n",
       "      <td>[MichaelBay]</td>\n",
       "      <td>134374</td>\n",
       "      <td>[MarkWahlberg, DwayneJohnson, AnthonyMackie]</td>\n",
       "      <td>[Daniel, Lugo,, manager, of, the, Sun, Gym, in...</td>\n",
       "      <td>Pain &amp; Gain</td>\n",
       "      <td>[Thriller, Crime, Action, miami, scam, crime, ...</td>\n",
       "    </tr>\n",
       "    <tr>\n",
       "      <th>3425</th>\n",
       "      <td>[Comedy, Drama, Romance]</td>\n",
       "      <td>[]</td>\n",
       "      <td>[AlanAlda]</td>\n",
       "      <td>25113</td>\n",
       "      <td>[AlanAlda, CarolBurnett, LenCariou]</td>\n",
       "      <td>[Three, middle-aged, wealthy, couples, take, v...</td>\n",
       "      <td>The Four Seasons</td>\n",
       "      <td>[Comedy, Drama, Romance, AlanAlda, CarolBurnet...</td>\n",
       "    </tr>\n",
       "    <tr>\n",
       "      <th>26</th>\n",
       "      <td>[Adventure, Action, ScienceFiction]</td>\n",
       "      <td>[civilwar, war, marvelcomic, sequel, superhero...</td>\n",
       "      <td>[AnthonyRusso, JoeRusso]</td>\n",
       "      <td>271110</td>\n",
       "      <td>[ChrisEvans, RobertDowneyJr., ScarlettJohansson]</td>\n",
       "      <td>[Following, the, events, of, Age, of, Ultron,,...</td>\n",
       "      <td>Captain America: Civil War</td>\n",
       "      <td>[Adventure, Action, ScienceFiction, civilwar, ...</td>\n",
       "    </tr>\n",
       "    <tr>\n",
       "      <th>1452</th>\n",
       "      <td>[Action, Crime]</td>\n",
       "      <td>[brokenneck, fbiagent, wallsafe, trashedhouse,...</td>\n",
       "      <td>[LexiAlexander]</td>\n",
       "      <td>13056</td>\n",
       "      <td>[RayStevenson, DominicWest, JulieBenz]</td>\n",
       "      <td>[Waging, his, one-man, war, on, the, world, of...</td>\n",
       "      <td>Punisher: War Zone</td>\n",
       "      <td>[Action, Crime, brokenneck, fbiagent, wallsafe...</td>\n",
       "    </tr>\n",
       "    <tr>\n",
       "      <th>1657</th>\n",
       "      <td>[Comedy, Romance]</td>\n",
       "      <td>[venice, berlin, usapresident, undercover, pra...</td>\n",
       "      <td>[AndyCadiff]</td>\n",
       "      <td>14844</td>\n",
       "      <td>[MandyMoore, StarkSands, TonyJayawardena]</td>\n",
       "      <td>[The, President's, daughter,, unable, to, expe...</td>\n",
       "      <td>Chasing Liberty</td>\n",
       "      <td>[Comedy, Romance, venice, berlin, usapresident...</td>\n",
       "    </tr>\n",
       "    <tr>\n",
       "      <th>3276</th>\n",
       "      <td>[Comedy, Thriller, Music, Crime, Mystery]</td>\n",
       "      <td>[upperclass, women, fathermurder, daughter, ma...</td>\n",
       "      <td>[FrançoisOzon]</td>\n",
       "      <td>1958</td>\n",
       "      <td>[CatherineDeneuve, IsabelleHuppert, Emmanuelle...</td>\n",
       "      <td>[Eight, women, gather, to, celebrate, Christma...</td>\n",
       "      <td>8 Women</td>\n",
       "      <td>[Comedy, Thriller, Music, Crime, Mystery, uppe...</td>\n",
       "    </tr>\n",
       "  </tbody>\n",
       "</table>\n",
       "</div>"
      ],
      "text/plain": [
       "                                         genres  \\\n",
       "1483    [Family, Fantasy, Animation, Adventure]   \n",
       "1794                  [Thriller, Crime, Action]   \n",
       "3425                   [Comedy, Drama, Romance]   \n",
       "26          [Adventure, Action, ScienceFiction]   \n",
       "1452                            [Action, Crime]   \n",
       "1657                          [Comedy, Romance]   \n",
       "3276  [Comedy, Thriller, Music, Crime, Mystery]   \n",
       "\n",
       "                                               keywords  \\\n",
       "1483                                        [magic, 3d]   \n",
       "1794  [miami, scam, crime, weightlifting, weightlift...   \n",
       "3425                                                 []   \n",
       "26    [civilwar, war, marvelcomic, sequel, superhero...   \n",
       "1452  [brokenneck, fbiagent, wallsafe, trashedhouse,...   \n",
       "1657  [venice, berlin, usapresident, undercover, pra...   \n",
       "3276  [upperclass, women, fathermurder, daughter, ma...   \n",
       "\n",
       "                              crew  movie_id  \\\n",
       "1483  [BenStassen, JeremyDegruson]    202575   \n",
       "1794                  [MichaelBay]    134374   \n",
       "3425                    [AlanAlda]     25113   \n",
       "26        [AnthonyRusso, JoeRusso]    271110   \n",
       "1452               [LexiAlexander]     13056   \n",
       "1657                  [AndyCadiff]     14844   \n",
       "3276                [FrançoisOzon]      1958   \n",
       "\n",
       "                                                   cast  \\\n",
       "1483        [BrianneSiddall, JoeyCamen, ElisaGabrielli]   \n",
       "1794       [MarkWahlberg, DwayneJohnson, AnthonyMackie]   \n",
       "3425                [AlanAlda, CarolBurnett, LenCariou]   \n",
       "26     [ChrisEvans, RobertDowneyJr., ScarlettJohansson]   \n",
       "1452             [RayStevenson, DominicWest, JulieBenz]   \n",
       "1657          [MandyMoore, StarkSands, TonyJayawardena]   \n",
       "3276  [CatherineDeneuve, IsabelleHuppert, Emmanuelle...   \n",
       "\n",
       "                                               overview  \\\n",
       "1483  [Thunder,, an, abandoned, young, cat, seeking,...   \n",
       "1794  [Daniel, Lugo,, manager, of, the, Sun, Gym, in...   \n",
       "3425  [Three, middle-aged, wealthy, couples, take, v...   \n",
       "26    [Following, the, events, of, Age, of, Ultron,,...   \n",
       "1452  [Waging, his, one-man, war, on, the, world, of...   \n",
       "1657  [The, President's, daughter,, unable, to, expe...   \n",
       "3276  [Eight, women, gather, to, celebrate, Christma...   \n",
       "\n",
       "                               title  \\\n",
       "1483  Thunder and the House of Magic   \n",
       "1794                     Pain & Gain   \n",
       "3425                The Four Seasons   \n",
       "26        Captain America: Civil War   \n",
       "1452              Punisher: War Zone   \n",
       "1657                 Chasing Liberty   \n",
       "3276                         8 Women   \n",
       "\n",
       "                                                   tags  \n",
       "1483  [Family, Fantasy, Animation, Adventure, magic,...  \n",
       "1794  [Thriller, Crime, Action, miami, scam, crime, ...  \n",
       "3425  [Comedy, Drama, Romance, AlanAlda, CarolBurnet...  \n",
       "26    [Adventure, Action, ScienceFiction, civilwar, ...  \n",
       "1452  [Action, Crime, brokenneck, fbiagent, wallsafe...  \n",
       "1657  [Comedy, Romance, venice, berlin, usapresident...  \n",
       "3276  [Comedy, Thriller, Music, Crime, Mystery, uppe...  "
      ]
     },
     "execution_count": 203,
     "metadata": {},
     "output_type": "execute_result"
    }
   ],
   "source": [
    "movies.sample(7)"
   ]
  },
  {
   "cell_type": "code",
   "execution_count": null,
   "id": "0da4b866-4cc7-4c75-b4f4-8bdd9c5762a1",
   "metadata": {},
   "outputs": [],
   "source": []
  },
  {
   "cell_type": "code",
   "execution_count": null,
   "id": "4383676a-6c60-4ea6-bf34-88074e69d4fc",
   "metadata": {},
   "outputs": [],
   "source": []
  },
  {
   "cell_type": "code",
   "execution_count": null,
   "id": "282d1330-f796-4aa8-9dcf-d84e71def5f7",
   "metadata": {},
   "outputs": [],
   "source": []
  },
  {
   "cell_type": "code",
   "execution_count": null,
   "id": "1a967da6-c802-477a-9916-838f61abdd3e",
   "metadata": {},
   "outputs": [],
   "source": []
  },
  {
   "cell_type": "code",
   "execution_count": null,
   "id": "49a02495-b3ac-458a-a60a-72b53acb9beb",
   "metadata": {},
   "outputs": [],
   "source": []
  },
  {
   "cell_type": "code",
   "execution_count": null,
   "id": "35b8e597-590a-4dc6-856d-0bf2a4c5385f",
   "metadata": {},
   "outputs": [],
   "source": []
  },
  {
   "cell_type": "code",
   "execution_count": null,
   "id": "035ca244-b6ad-4862-bd72-ef3b36ede7fd",
   "metadata": {},
   "outputs": [],
   "source": []
  },
  {
   "cell_type": "code",
   "execution_count": null,
   "id": "8bb2e976-7edc-4486-9d70-c0813ffd69bc",
   "metadata": {},
   "outputs": [],
   "source": []
  },
  {
   "cell_type": "code",
   "execution_count": 162,
   "id": "ab1f7246-0d48-4d6a-ab4c-d932462470e9",
   "metadata": {},
   "outputs": [
    {
     "name": "stdout",
     "output_type": "stream",
     "text": [
      "The Dark Knight\n",
      "Batman Begins\n",
      "Batman\n",
      "Batman\n",
      "Batman Forever\n",
      "Batman & Robin\n",
      "Nighthawks\n",
      "Carlos\n",
      "Amidst the Devil's Wings\n"
     ]
    }
   ],
   "source": [
    "recommend(\"The Dark Knight Rises\")"
   ]
  },
  {
   "cell_type": "code",
   "execution_count": 164,
   "id": "df3952b9-947c-4c98-bc70-9d0ce16063a8",
   "metadata": {},
   "outputs": [
    {
     "name": "stdout",
     "output_type": "stream",
     "text": [
      "Pirates of the Caribbean: Dead Man's Chest\n",
      "Pirates of the Caribbean: The Curse of the Black Pearl\n",
      "Pirates of the Caribbean: On Stranger Tides\n",
      "Waterworld\n",
      "20,000 Leagues Under the Sea\n",
      "The Imaginarium of Doctor Parnassus\n",
      "Puss in Boots\n",
      "Cutthroat Island\n",
      "Nim's Island\n"
     ]
    }
   ],
   "source": [
    "recommend(\"Pirates of the Caribbean: At World's End\")"
   ]
  },
  {
   "cell_type": "code",
   "execution_count": 166,
   "id": "3d3e518b-a982-4f72-ac74-81b7e6e551f0",
   "metadata": {},
   "outputs": [
    {
     "name": "stdout",
     "output_type": "stream",
     "text": [
      "Small Soldiers\n",
      "Jupiter Ascending\n",
      "Star Trek Into Darkness\n",
      "Ender's Game\n",
      "The Fifth Element\n",
      "The Book of Life\n",
      "Beowulf\n",
      "The Helix... Loaded\n",
      "Journey 2: The Mysterious Island\n"
     ]
    }
   ],
   "source": [
    "recommend(\"Avatar\")"
   ]
  },
  {
   "cell_type": "code",
   "execution_count": 168,
   "id": "7df2c7ab-eac4-4ec0-9758-b256ef1d713a",
   "metadata": {},
   "outputs": [
    {
     "name": "stdout",
     "output_type": "stream",
     "text": [
      "MacGruber\n",
      "Ant-Man\n",
      "Iron Man 2\n",
      "Fantastic Four\n",
      "X-Men Origins: Wolverine\n",
      "X-Men\n",
      "Megamind\n",
      "Captain America: Civil War\n",
      "The Incredible Hulk\n"
     ]
    }
   ],
   "source": [
    "recommend(\"Deadpool\")"
   ]
  },
  {
   "cell_type": "code",
   "execution_count": null,
   "id": "80a4fb8c-d211-4b46-b60f-6948187bbf37",
   "metadata": {},
   "outputs": [],
   "source": []
  }
 ],
 "metadata": {
  "kernelspec": {
   "display_name": "Python 3 (ipykernel)",
   "language": "python",
   "name": "python3"
  },
  "language_info": {
   "codemirror_mode": {
    "name": "ipython",
    "version": 3
   },
   "file_extension": ".py",
   "mimetype": "text/x-python",
   "name": "python",
   "nbconvert_exporter": "python",
   "pygments_lexer": "ipython3",
   "version": "3.12.7"
  }
 },
 "nbformat": 4,
 "nbformat_minor": 5
}
